{
 "cells": [
  {
   "cell_type": "code",
   "execution_count": 1,
   "id": "3f0013e3",
   "metadata": {},
   "outputs": [
    {
     "data": {
      "text/html": [
       "<div class=\"bk-root\">\n",
       "        <a href=\"https://bokeh.org\" target=\"_blank\" class=\"bk-logo bk-logo-small bk-logo-notebook\"></a>\n",
       "        <span id=\"1002\">Loading BokehJS ...</span>\n",
       "    </div>\n"
      ]
     },
     "metadata": {},
     "output_type": "display_data"
    },
    {
     "data": {
      "application/javascript": [
       "(function(root) {\n",
       "  function now() {\n",
       "    return new Date();\n",
       "  }\n",
       "\n",
       "  const force = true;\n",
       "\n",
       "  if (typeof root._bokeh_onload_callbacks === \"undefined\" || force === true) {\n",
       "    root._bokeh_onload_callbacks = [];\n",
       "    root._bokeh_is_loading = undefined;\n",
       "  }\n",
       "\n",
       "const JS_MIME_TYPE = 'application/javascript';\n",
       "  const HTML_MIME_TYPE = 'text/html';\n",
       "  const EXEC_MIME_TYPE = 'application/vnd.bokehjs_exec.v0+json';\n",
       "  const CLASS_NAME = 'output_bokeh rendered_html';\n",
       "\n",
       "  /**\n",
       "   * Render data to the DOM node\n",
       "   */\n",
       "  function render(props, node) {\n",
       "    const script = document.createElement(\"script\");\n",
       "    node.appendChild(script);\n",
       "  }\n",
       "\n",
       "  /**\n",
       "   * Handle when an output is cleared or removed\n",
       "   */\n",
       "  function handleClearOutput(event, handle) {\n",
       "    const cell = handle.cell;\n",
       "\n",
       "    const id = cell.output_area._bokeh_element_id;\n",
       "    const server_id = cell.output_area._bokeh_server_id;\n",
       "    // Clean up Bokeh references\n",
       "    if (id != null && id in Bokeh.index) {\n",
       "      Bokeh.index[id].model.document.clear();\n",
       "      delete Bokeh.index[id];\n",
       "    }\n",
       "\n",
       "    if (server_id !== undefined) {\n",
       "      // Clean up Bokeh references\n",
       "      const cmd_clean = \"from bokeh.io.state import curstate; print(curstate().uuid_to_server['\" + server_id + \"'].get_sessions()[0].document.roots[0]._id)\";\n",
       "      cell.notebook.kernel.execute(cmd_clean, {\n",
       "        iopub: {\n",
       "          output: function(msg) {\n",
       "            const id = msg.content.text.trim();\n",
       "            if (id in Bokeh.index) {\n",
       "              Bokeh.index[id].model.document.clear();\n",
       "              delete Bokeh.index[id];\n",
       "            }\n",
       "          }\n",
       "        }\n",
       "      });\n",
       "      // Destroy server and session\n",
       "      const cmd_destroy = \"import bokeh.io.notebook as ion; ion.destroy_server('\" + server_id + \"')\";\n",
       "      cell.notebook.kernel.execute(cmd_destroy);\n",
       "    }\n",
       "  }\n",
       "\n",
       "  /**\n",
       "   * Handle when a new output is added\n",
       "   */\n",
       "  function handleAddOutput(event, handle) {\n",
       "    const output_area = handle.output_area;\n",
       "    const output = handle.output;\n",
       "\n",
       "    // limit handleAddOutput to display_data with EXEC_MIME_TYPE content only\n",
       "    if ((output.output_type != \"display_data\") || (!Object.prototype.hasOwnProperty.call(output.data, EXEC_MIME_TYPE))) {\n",
       "      return\n",
       "    }\n",
       "\n",
       "    const toinsert = output_area.element.find(\".\" + CLASS_NAME.split(' ')[0]);\n",
       "\n",
       "    if (output.metadata[EXEC_MIME_TYPE][\"id\"] !== undefined) {\n",
       "      toinsert[toinsert.length - 1].firstChild.textContent = output.data[JS_MIME_TYPE];\n",
       "      // store reference to embed id on output_area\n",
       "      output_area._bokeh_element_id = output.metadata[EXEC_MIME_TYPE][\"id\"];\n",
       "    }\n",
       "    if (output.metadata[EXEC_MIME_TYPE][\"server_id\"] !== undefined) {\n",
       "      const bk_div = document.createElement(\"div\");\n",
       "      bk_div.innerHTML = output.data[HTML_MIME_TYPE];\n",
       "      const script_attrs = bk_div.children[0].attributes;\n",
       "      for (let i = 0; i < script_attrs.length; i++) {\n",
       "        toinsert[toinsert.length - 1].firstChild.setAttribute(script_attrs[i].name, script_attrs[i].value);\n",
       "        toinsert[toinsert.length - 1].firstChild.textContent = bk_div.children[0].textContent\n",
       "      }\n",
       "      // store reference to server id on output_area\n",
       "      output_area._bokeh_server_id = output.metadata[EXEC_MIME_TYPE][\"server_id\"];\n",
       "    }\n",
       "  }\n",
       "\n",
       "  function register_renderer(events, OutputArea) {\n",
       "\n",
       "    function append_mime(data, metadata, element) {\n",
       "      // create a DOM node to render to\n",
       "      const toinsert = this.create_output_subarea(\n",
       "        metadata,\n",
       "        CLASS_NAME,\n",
       "        EXEC_MIME_TYPE\n",
       "      );\n",
       "      this.keyboard_manager.register_events(toinsert);\n",
       "      // Render to node\n",
       "      const props = {data: data, metadata: metadata[EXEC_MIME_TYPE]};\n",
       "      render(props, toinsert[toinsert.length - 1]);\n",
       "      element.append(toinsert);\n",
       "      return toinsert\n",
       "    }\n",
       "\n",
       "    /* Handle when an output is cleared or removed */\n",
       "    events.on('clear_output.CodeCell', handleClearOutput);\n",
       "    events.on('delete.Cell', handleClearOutput);\n",
       "\n",
       "    /* Handle when a new output is added */\n",
       "    events.on('output_added.OutputArea', handleAddOutput);\n",
       "\n",
       "    /**\n",
       "     * Register the mime type and append_mime function with output_area\n",
       "     */\n",
       "    OutputArea.prototype.register_mime_type(EXEC_MIME_TYPE, append_mime, {\n",
       "      /* Is output safe? */\n",
       "      safe: true,\n",
       "      /* Index of renderer in `output_area.display_order` */\n",
       "      index: 0\n",
       "    });\n",
       "  }\n",
       "\n",
       "  // register the mime type if in Jupyter Notebook environment and previously unregistered\n",
       "  if (root.Jupyter !== undefined) {\n",
       "    const events = require('base/js/events');\n",
       "    const OutputArea = require('notebook/js/outputarea').OutputArea;\n",
       "\n",
       "    if (OutputArea.prototype.mime_types().indexOf(EXEC_MIME_TYPE) == -1) {\n",
       "      register_renderer(events, OutputArea);\n",
       "    }\n",
       "  }\n",
       "  if (typeof (root._bokeh_timeout) === \"undefined\" || force === true) {\n",
       "    root._bokeh_timeout = Date.now() + 5000;\n",
       "    root._bokeh_failed_load = false;\n",
       "  }\n",
       "\n",
       "  const NB_LOAD_WARNING = {'data': {'text/html':\n",
       "     \"<div style='background-color: #fdd'>\\n\"+\n",
       "     \"<p>\\n\"+\n",
       "     \"BokehJS does not appear to have successfully loaded. If loading BokehJS from CDN, this \\n\"+\n",
       "     \"may be due to a slow or bad network connection. Possible fixes:\\n\"+\n",
       "     \"</p>\\n\"+\n",
       "     \"<ul>\\n\"+\n",
       "     \"<li>re-rerun `output_notebook()` to attempt to load from CDN again, or</li>\\n\"+\n",
       "     \"<li>use INLINE resources instead, as so:</li>\\n\"+\n",
       "     \"</ul>\\n\"+\n",
       "     \"<code>\\n\"+\n",
       "     \"from bokeh.resources import INLINE\\n\"+\n",
       "     \"output_notebook(resources=INLINE)\\n\"+\n",
       "     \"</code>\\n\"+\n",
       "     \"</div>\"}};\n",
       "\n",
       "  function display_loaded() {\n",
       "    const el = document.getElementById(\"1002\");\n",
       "    if (el != null) {\n",
       "      el.textContent = \"BokehJS is loading...\";\n",
       "    }\n",
       "    if (root.Bokeh !== undefined) {\n",
       "      if (el != null) {\n",
       "        el.textContent = \"BokehJS \" + root.Bokeh.version + \" successfully loaded.\";\n",
       "      }\n",
       "    } else if (Date.now() < root._bokeh_timeout) {\n",
       "      setTimeout(display_loaded, 100)\n",
       "    }\n",
       "  }\n",
       "\n",
       "  function run_callbacks() {\n",
       "    try {\n",
       "      root._bokeh_onload_callbacks.forEach(function(callback) {\n",
       "        if (callback != null)\n",
       "          callback();\n",
       "      });\n",
       "    } finally {\n",
       "      delete root._bokeh_onload_callbacks\n",
       "    }\n",
       "    console.debug(\"Bokeh: all callbacks have finished\");\n",
       "  }\n",
       "\n",
       "  function load_libs(css_urls, js_urls, callback) {\n",
       "    if (css_urls == null) css_urls = [];\n",
       "    if (js_urls == null) js_urls = [];\n",
       "\n",
       "    root._bokeh_onload_callbacks.push(callback);\n",
       "    if (root._bokeh_is_loading > 0) {\n",
       "      console.debug(\"Bokeh: BokehJS is being loaded, scheduling callback at\", now());\n",
       "      return null;\n",
       "    }\n",
       "    if (js_urls == null || js_urls.length === 0) {\n",
       "      run_callbacks();\n",
       "      return null;\n",
       "    }\n",
       "    console.debug(\"Bokeh: BokehJS not loaded, scheduling load and callback at\", now());\n",
       "    root._bokeh_is_loading = css_urls.length + js_urls.length;\n",
       "\n",
       "    function on_load() {\n",
       "      root._bokeh_is_loading--;\n",
       "      if (root._bokeh_is_loading === 0) {\n",
       "        console.debug(\"Bokeh: all BokehJS libraries/stylesheets loaded\");\n",
       "        run_callbacks()\n",
       "      }\n",
       "    }\n",
       "\n",
       "    function on_error(url) {\n",
       "      console.error(\"failed to load \" + url);\n",
       "    }\n",
       "\n",
       "    for (let i = 0; i < css_urls.length; i++) {\n",
       "      const url = css_urls[i];\n",
       "      const element = document.createElement(\"link\");\n",
       "      element.onload = on_load;\n",
       "      element.onerror = on_error.bind(null, url);\n",
       "      element.rel = \"stylesheet\";\n",
       "      element.type = \"text/css\";\n",
       "      element.href = url;\n",
       "      console.debug(\"Bokeh: injecting link tag for BokehJS stylesheet: \", url);\n",
       "      document.body.appendChild(element);\n",
       "    }\n",
       "\n",
       "    for (let i = 0; i < js_urls.length; i++) {\n",
       "      const url = js_urls[i];\n",
       "      const element = document.createElement('script');\n",
       "      element.onload = on_load;\n",
       "      element.onerror = on_error.bind(null, url);\n",
       "      element.async = false;\n",
       "      element.src = url;\n",
       "      console.debug(\"Bokeh: injecting script tag for BokehJS library: \", url);\n",
       "      document.head.appendChild(element);\n",
       "    }\n",
       "  };\n",
       "\n",
       "  function inject_raw_css(css) {\n",
       "    const element = document.createElement(\"style\");\n",
       "    element.appendChild(document.createTextNode(css));\n",
       "    document.body.appendChild(element);\n",
       "  }\n",
       "\n",
       "  const js_urls = [\"https://cdn.bokeh.org/bokeh/release/bokeh-2.4.3.min.js\", \"https://cdn.bokeh.org/bokeh/release/bokeh-gl-2.4.3.min.js\", \"https://cdn.bokeh.org/bokeh/release/bokeh-widgets-2.4.3.min.js\", \"https://cdn.bokeh.org/bokeh/release/bokeh-tables-2.4.3.min.js\", \"https://cdn.bokeh.org/bokeh/release/bokeh-mathjax-2.4.3.min.js\"];\n",
       "  const css_urls = [];\n",
       "\n",
       "  const inline_js = [    function(Bokeh) {\n",
       "      Bokeh.set_log_level(\"info\");\n",
       "    },\n",
       "function(Bokeh) {\n",
       "    }\n",
       "  ];\n",
       "\n",
       "  function run_inline_js() {\n",
       "    if (root.Bokeh !== undefined || force === true) {\n",
       "          for (let i = 0; i < inline_js.length; i++) {\n",
       "      inline_js[i].call(root, root.Bokeh);\n",
       "    }\n",
       "if (force === true) {\n",
       "        display_loaded();\n",
       "      }} else if (Date.now() < root._bokeh_timeout) {\n",
       "      setTimeout(run_inline_js, 100);\n",
       "    } else if (!root._bokeh_failed_load) {\n",
       "      console.log(\"Bokeh: BokehJS failed to load within specified timeout.\");\n",
       "      root._bokeh_failed_load = true;\n",
       "    } else if (force !== true) {\n",
       "      const cell = $(document.getElementById(\"1002\")).parents('.cell').data().cell;\n",
       "      cell.output_area.append_execute_result(NB_LOAD_WARNING)\n",
       "    }\n",
       "  }\n",
       "\n",
       "  if (root._bokeh_is_loading === 0) {\n",
       "    console.debug(\"Bokeh: BokehJS loaded, going straight to plotting\");\n",
       "    run_inline_js();\n",
       "  } else {\n",
       "    load_libs(css_urls, js_urls, function() {\n",
       "      console.debug(\"Bokeh: BokehJS plotting callback run at\", now());\n",
       "      run_inline_js();\n",
       "    });\n",
       "  }\n",
       "}(window));"
      ],
      "application/vnd.bokehjs_load.v0+json": "(function(root) {\n  function now() {\n    return new Date();\n  }\n\n  const force = true;\n\n  if (typeof root._bokeh_onload_callbacks === \"undefined\" || force === true) {\n    root._bokeh_onload_callbacks = [];\n    root._bokeh_is_loading = undefined;\n  }\n\n\n  if (typeof (root._bokeh_timeout) === \"undefined\" || force === true) {\n    root._bokeh_timeout = Date.now() + 5000;\n    root._bokeh_failed_load = false;\n  }\n\n  const NB_LOAD_WARNING = {'data': {'text/html':\n     \"<div style='background-color: #fdd'>\\n\"+\n     \"<p>\\n\"+\n     \"BokehJS does not appear to have successfully loaded. If loading BokehJS from CDN, this \\n\"+\n     \"may be due to a slow or bad network connection. Possible fixes:\\n\"+\n     \"</p>\\n\"+\n     \"<ul>\\n\"+\n     \"<li>re-rerun `output_notebook()` to attempt to load from CDN again, or</li>\\n\"+\n     \"<li>use INLINE resources instead, as so:</li>\\n\"+\n     \"</ul>\\n\"+\n     \"<code>\\n\"+\n     \"from bokeh.resources import INLINE\\n\"+\n     \"output_notebook(resources=INLINE)\\n\"+\n     \"</code>\\n\"+\n     \"</div>\"}};\n\n  function display_loaded() {\n    const el = document.getElementById(\"1002\");\n    if (el != null) {\n      el.textContent = \"BokehJS is loading...\";\n    }\n    if (root.Bokeh !== undefined) {\n      if (el != null) {\n        el.textContent = \"BokehJS \" + root.Bokeh.version + \" successfully loaded.\";\n      }\n    } else if (Date.now() < root._bokeh_timeout) {\n      setTimeout(display_loaded, 100)\n    }\n  }\n\n  function run_callbacks() {\n    try {\n      root._bokeh_onload_callbacks.forEach(function(callback) {\n        if (callback != null)\n          callback();\n      });\n    } finally {\n      delete root._bokeh_onload_callbacks\n    }\n    console.debug(\"Bokeh: all callbacks have finished\");\n  }\n\n  function load_libs(css_urls, js_urls, callback) {\n    if (css_urls == null) css_urls = [];\n    if (js_urls == null) js_urls = [];\n\n    root._bokeh_onload_callbacks.push(callback);\n    if (root._bokeh_is_loading > 0) {\n      console.debug(\"Bokeh: BokehJS is being loaded, scheduling callback at\", now());\n      return null;\n    }\n    if (js_urls == null || js_urls.length === 0) {\n      run_callbacks();\n      return null;\n    }\n    console.debug(\"Bokeh: BokehJS not loaded, scheduling load and callback at\", now());\n    root._bokeh_is_loading = css_urls.length + js_urls.length;\n\n    function on_load() {\n      root._bokeh_is_loading--;\n      if (root._bokeh_is_loading === 0) {\n        console.debug(\"Bokeh: all BokehJS libraries/stylesheets loaded\");\n        run_callbacks()\n      }\n    }\n\n    function on_error(url) {\n      console.error(\"failed to load \" + url);\n    }\n\n    for (let i = 0; i < css_urls.length; i++) {\n      const url = css_urls[i];\n      const element = document.createElement(\"link\");\n      element.onload = on_load;\n      element.onerror = on_error.bind(null, url);\n      element.rel = \"stylesheet\";\n      element.type = \"text/css\";\n      element.href = url;\n      console.debug(\"Bokeh: injecting link tag for BokehJS stylesheet: \", url);\n      document.body.appendChild(element);\n    }\n\n    for (let i = 0; i < js_urls.length; i++) {\n      const url = js_urls[i];\n      const element = document.createElement('script');\n      element.onload = on_load;\n      element.onerror = on_error.bind(null, url);\n      element.async = false;\n      element.src = url;\n      console.debug(\"Bokeh: injecting script tag for BokehJS library: \", url);\n      document.head.appendChild(element);\n    }\n  };\n\n  function inject_raw_css(css) {\n    const element = document.createElement(\"style\");\n    element.appendChild(document.createTextNode(css));\n    document.body.appendChild(element);\n  }\n\n  const js_urls = [\"https://cdn.bokeh.org/bokeh/release/bokeh-2.4.3.min.js\", \"https://cdn.bokeh.org/bokeh/release/bokeh-gl-2.4.3.min.js\", \"https://cdn.bokeh.org/bokeh/release/bokeh-widgets-2.4.3.min.js\", \"https://cdn.bokeh.org/bokeh/release/bokeh-tables-2.4.3.min.js\", \"https://cdn.bokeh.org/bokeh/release/bokeh-mathjax-2.4.3.min.js\"];\n  const css_urls = [];\n\n  const inline_js = [    function(Bokeh) {\n      Bokeh.set_log_level(\"info\");\n    },\nfunction(Bokeh) {\n    }\n  ];\n\n  function run_inline_js() {\n    if (root.Bokeh !== undefined || force === true) {\n          for (let i = 0; i < inline_js.length; i++) {\n      inline_js[i].call(root, root.Bokeh);\n    }\nif (force === true) {\n        display_loaded();\n      }} else if (Date.now() < root._bokeh_timeout) {\n      setTimeout(run_inline_js, 100);\n    } else if (!root._bokeh_failed_load) {\n      console.log(\"Bokeh: BokehJS failed to load within specified timeout.\");\n      root._bokeh_failed_load = true;\n    } else if (force !== true) {\n      const cell = $(document.getElementById(\"1002\")).parents('.cell').data().cell;\n      cell.output_area.append_execute_result(NB_LOAD_WARNING)\n    }\n  }\n\n  if (root._bokeh_is_loading === 0) {\n    console.debug(\"Bokeh: BokehJS loaded, going straight to plotting\");\n    run_inline_js();\n  } else {\n    load_libs(css_urls, js_urls, function() {\n      console.debug(\"Bokeh: BokehJS plotting callback run at\", now());\n      run_inline_js();\n    });\n  }\n}(window));"
     },
     "metadata": {},
     "output_type": "display_data"
    },
    {
     "name": "stdout",
     "output_type": "stream",
     "text": [
      "Congrats line 5 ran\n",
      "__name__ is  main\n"
     ]
    }
   ],
   "source": [
    "# Bokeh Libraries\n",
    "import bokeh.io\n",
    "from bokeh.plotting import figure, show\n",
    "\n",
    "bokeh.io.reset_output()\n",
    "bokeh.io.output_notebook()\n",
    "\n",
    "import main\n",
    "from pprint import pprint\n",
    "from IPython.display import display, HTML\n",
    "import itertools \n",
    "import random\n"
   ]
  },
  {
   "cell_type": "code",
   "execution_count": 2,
   "id": "1b3153c1",
   "metadata": {
    "scrolled": true
   },
   "outputs": [],
   "source": [
    "#matches = main.load_folder('CIL_matches')\n",
    "matches, regional = main.load_folder('Midwest Regional')\n"
   ]
  },
  {
   "cell_type": "code",
   "execution_count": 3,
   "id": "ab08d60b",
   "metadata": {},
   "outputs": [],
   "source": [
    "colors = ['deepskyblue', 'olive','firebrick', 'gold', 'green' ]\n",
    "\n",
    "def get_color(team_num):\n",
    "    if team_num == 8122:\n",
    "        return 'deeppink'\n",
    "    elif team_num == 4645:\n",
    "        return 'saddlebrown'\n",
    "    else:\n",
    "        return random.choice(colors)\n",
    "        "
   ]
  },
  {
   "cell_type": "code",
   "execution_count": 4,
   "id": "fa077c45",
   "metadata": {
    "scrolled": true
   },
   "outputs": [
    {
     "name": "stdout",
     "output_type": "stream",
     "text": [
      "{'climb_average': 2.7,\n",
      " 'climbs': [3, 3, 3, 3, 3, 3, 3, 1, 4, 1],\n",
      " 'shot_percentage': 0.36,\n",
      " 'shots_high': [6, 5, 3, 2, 2, 5, 4, 3, 0, 4],\n",
      " 'shots_in_regional': 34,\n",
      " 'taxis': [True, True, True, True, True, True, True, True, True, True],\n",
      " 'total_shots': [12, 9, 12, 9, 8, 11, 14, 7, 0, 13]}\n"
     ]
    }
   ],
   "source": [
    "pprint(regional[8122])"
   ]
  },
  {
   "cell_type": "code",
   "execution_count": 5,
   "id": "9155afb3",
   "metadata": {},
   "outputs": [
    {
     "data": {
      "text/html": [
       "\n",
       "<h1>111</h1><br><strong>\n",
       "shots in regional: 114<br>\n",
       "max shots in single match: 19<br>\n",
       "regional shot percentage: 77.0%<br>\n",
       "average climb level: 3.4<br>\n",
       "taxi percentage: 90.0%\n",
       "</strong>"
      ],
      "text/plain": [
       "<IPython.core.display.HTML object>"
      ]
     },
     "metadata": {},
     "output_type": "display_data"
    },
    {
     "data": {
      "text/html": [
       "\n",
       "  <div class=\"bk-root\" id=\"0f839fa1-7459-483f-8fc4-21ab3ac62761\" data-root-id=\"1003\"></div>\n"
      ]
     },
     "metadata": {},
     "output_type": "display_data"
    },
    {
     "data": {
      "application/javascript": [
       "(function(root) {\n",
       "  function embed_document(root) {\n",
       "  const docs_json = {\"64fee247-f20d-4f75-a5e7-4a785195050c\":{\"defs\":[],\"roots\":{\"references\":[{\"attributes\":{\"below\":[{\"id\":\"1014\"}],\"center\":[{\"id\":\"1017\"},{\"id\":\"1021\"},{\"id\":\"1068\"}],\"height\":300,\"left\":[{\"id\":\"1018\"}],\"renderers\":[{\"id\":\"1040\"},{\"id\":\"1046\"},{\"id\":\"1052\"},{\"id\":\"1074\"},{\"id\":\"1097\"}],\"title\":{\"id\":\"1004\"},\"toolbar\":{\"id\":\"1029\"},\"width\":500,\"x_range\":{\"id\":\"1006\"},\"x_scale\":{\"id\":\"1010\"},\"y_range\":{\"id\":\"1008\"},\"y_scale\":{\"id\":\"1012\"}},\"id\":\"1003\",\"subtype\":\"Figure\",\"type\":\"Plot\"},{\"attributes\":{\"label\":{\"value\":\"climb\"},\"renderers\":[{\"id\":\"1074\"}]},\"id\":\"1092\",\"type\":\"LegendItem\"},{\"attributes\":{\"source\":{\"id\":\"1036\"}},\"id\":\"1041\",\"type\":\"CDSView\"},{\"attributes\":{\"data\":{\"fill_color\":[\"green\",\"green\",\"red\",\"green\",\"green\",\"green\",\"green\",\"green\",\"green\",\"green\"],\"hatch_color\":[\"green\",\"green\",\"red\",\"green\",\"green\",\"green\",\"green\",\"green\",\"green\",\"green\"],\"line_color\":[\"green\",\"green\",\"red\",\"green\",\"green\",\"green\",\"green\",\"green\",\"green\",\"green\"],\"x\":[1,2,3,4,5,6,7,8,9,10]},\"selected\":{\"id\":\"1115\"},\"selection_policy\":{\"id\":\"1114\"}},\"id\":\"1093\",\"type\":\"ColumnDataSource\"},{\"attributes\":{\"source\":{\"id\":\"1093\"}},\"id\":\"1098\",\"type\":\"CDSView\"},{\"attributes\":{\"tools\":[{\"id\":\"1022\"},{\"id\":\"1023\"},{\"id\":\"1024\"},{\"id\":\"1025\"},{\"id\":\"1026\"},{\"id\":\"1027\"}]},\"id\":\"1029\",\"type\":\"Toolbar\"},{\"attributes\":{\"line_alpha\":0.1,\"line_color\":\"saddlebrown\",\"line_width\":2,\"x\":{\"field\":\"x\"},\"y\":{\"field\":\"y\"}},\"id\":\"1044\",\"type\":\"Line\"},{\"attributes\":{\"coordinates\":null,\"data_source\":{\"id\":\"1070\"},\"glyph\":{\"id\":\"1071\"},\"group\":null,\"hover_glyph\":null,\"muted_glyph\":{\"id\":\"1073\"},\"nonselection_glyph\":{\"id\":\"1072\"},\"view\":{\"id\":\"1075\"}},\"id\":\"1074\",\"type\":\"GlyphRenderer\"},{\"attributes\":{\"coordinates\":null,\"data_source\":{\"id\":\"1042\"},\"glyph\":{\"id\":\"1043\"},\"group\":null,\"hover_glyph\":null,\"muted_glyph\":{\"id\":\"1045\"},\"nonselection_glyph\":{\"id\":\"1044\"},\"view\":{\"id\":\"1047\"}},\"id\":\"1046\",\"type\":\"GlyphRenderer\"},{\"attributes\":{\"coordinates\":null,\"group\":null,\"items\":[{\"id\":\"1069\"},{\"id\":\"1092\"},{\"id\":\"1117\"}]},\"id\":\"1068\",\"type\":\"Legend\"},{\"attributes\":{},\"id\":\"1057\",\"type\":\"AllLabels\"},{\"attributes\":{},\"id\":\"1059\",\"type\":\"BasicTickFormatter\"},{\"attributes\":{\"data\":{\"x\":[1,2,3,4,5,6,7,8,9,10],\"y\":[0,5,1,5,5,4,5,0,5,4]},\"selected\":{\"id\":\"1090\"},\"selection_policy\":{\"id\":\"1089\"}},\"id\":\"1070\",\"type\":\"ColumnDataSource\"},{\"attributes\":{\"line_alpha\":0.2,\"line_color\":\"saddlebrown\",\"line_width\":2,\"x\":{\"field\":\"x\"},\"y\":{\"field\":\"y\"}},\"id\":\"1045\",\"type\":\"Line\"},{\"attributes\":{\"global_alpha\":{\"value\":0.25},\"h\":{\"value\":16.666666666666668},\"url\":{\"field\":\"url\"},\"w\":{\"value\":6.5},\"x\":{\"value\":3.25},\"y\":{\"value\":10.0}},\"id\":\"1037\",\"type\":\"ImageURL\"},{\"attributes\":{\"coordinates\":null,\"data_source\":{\"id\":\"1048\"},\"glyph\":{\"id\":\"1049\"},\"group\":null,\"hover_glyph\":null,\"muted_glyph\":{\"id\":\"1051\"},\"nonselection_glyph\":{\"id\":\"1050\"},\"view\":{\"id\":\"1053\"}},\"id\":\"1052\",\"type\":\"GlyphRenderer\"},{\"attributes\":{\"label\":{\"value\":\"shots\"},\"renderers\":[{\"id\":\"1052\"}]},\"id\":\"1069\",\"type\":\"LegendItem\"},{\"attributes\":{\"data\":{\"url\":[\"MM_logo.png\"]},\"selected\":{\"id\":\"1062\"},\"selection_policy\":{\"id\":\"1061\"}},\"id\":\"1036\",\"type\":\"ColumnDataSource\"},{\"attributes\":{\"fill_alpha\":{\"value\":0.75},\"fill_color\":{\"value\":\"deeppink\"},\"hatch_alpha\":{\"value\":0.75},\"hatch_color\":{\"value\":\"deeppink\"},\"line_alpha\":{\"value\":0.75},\"line_color\":{\"value\":\"deeppink\"},\"marker\":{\"value\":\"square\"},\"size\":{\"value\":6},\"x\":{\"field\":\"x\"},\"y\":{\"field\":\"y\"}},\"id\":\"1071\",\"type\":\"Scatter\"},{\"attributes\":{},\"id\":\"1064\",\"type\":\"Selection\"},{\"attributes\":{\"data\":{\"x\":[1,2,3,4,5,6,7,8,9,10],\"y\":[9,17,0,17,12,4,7,13,16,19]},\"selected\":{\"id\":\"1064\"},\"selection_policy\":{\"id\":\"1063\"}},\"id\":\"1042\",\"type\":\"ColumnDataSource\"},{\"attributes\":{},\"id\":\"1063\",\"type\":\"UnionRenderers\"},{\"attributes\":{\"source\":{\"id\":\"1048\"}},\"id\":\"1053\",\"type\":\"CDSView\"},{\"attributes\":{\"source\":{\"id\":\"1042\"}},\"id\":\"1047\",\"type\":\"CDSView\"},{\"attributes\":{},\"id\":\"1060\",\"type\":\"AllLabels\"},{\"attributes\":{\"global_alpha\":{\"value\":0.2},\"h\":{\"value\":16.666666666666668},\"url\":{\"field\":\"url\"},\"w\":{\"value\":6.5},\"x\":{\"value\":3.25},\"y\":{\"value\":10.0}},\"id\":\"1039\",\"type\":\"ImageURL\"},{\"attributes\":{},\"id\":\"1065\",\"type\":\"UnionRenderers\"},{\"attributes\":{},\"id\":\"1019\",\"type\":\"BasicTicker\"},{\"attributes\":{},\"id\":\"1023\",\"type\":\"WheelZoomTool\"},{\"attributes\":{},\"id\":\"1022\",\"type\":\"PanTool\"},{\"attributes\":{},\"id\":\"1115\",\"type\":\"Selection\"},{\"attributes\":{\"overlay\":{\"id\":\"1028\"}},\"id\":\"1024\",\"type\":\"BoxZoomTool\"},{\"attributes\":{\"axis\":{\"id\":\"1018\"},\"coordinates\":null,\"dimension\":1,\"group\":null,\"ticker\":null},\"id\":\"1021\",\"type\":\"Grid\"},{\"attributes\":{},\"id\":\"1025\",\"type\":\"SaveTool\"},{\"attributes\":{},\"id\":\"1026\",\"type\":\"ResetTool\"},{\"attributes\":{},\"id\":\"1114\",\"type\":\"UnionRenderers\"},{\"attributes\":{},\"id\":\"1089\",\"type\":\"UnionRenderers\"},{\"attributes\":{\"fill_alpha\":{\"value\":0.2},\"fill_color\":{\"value\":\"saddlebrown\"},\"hatch_alpha\":{\"value\":0.2},\"hatch_color\":{\"value\":\"saddlebrown\"},\"line_alpha\":{\"value\":0.2},\"line_color\":{\"value\":\"saddlebrown\"},\"size\":{\"field\":\"size\"},\"x\":{\"field\":\"x\"},\"y\":{\"field\":\"y\"}},\"id\":\"1051\",\"type\":\"Circle\"},{\"attributes\":{\"axis\":{\"id\":\"1014\"},\"coordinates\":null,\"group\":null,\"ticker\":null},\"id\":\"1017\",\"type\":\"Grid\"},{\"attributes\":{\"fill_alpha\":{\"value\":0.1},\"fill_color\":{\"value\":\"saddlebrown\"},\"hatch_alpha\":{\"value\":0.1},\"hatch_color\":{\"value\":\"saddlebrown\"},\"line_alpha\":{\"value\":0.1},\"line_color\":{\"value\":\"saddlebrown\"},\"size\":{\"field\":\"size\"},\"x\":{\"field\":\"x\"},\"y\":{\"field\":\"y\"}},\"id\":\"1050\",\"type\":\"Circle\"},{\"attributes\":{\"label\":{\"value\":\"taxi\"},\"renderers\":[{\"id\":\"1097\"}]},\"id\":\"1117\",\"type\":\"LegendItem\"},{\"attributes\":{\"coordinates\":null,\"data_source\":{\"id\":\"1093\"},\"glyph\":{\"id\":\"1094\"},\"group\":null,\"hover_glyph\":null,\"muted_glyph\":{\"id\":\"1096\"},\"nonselection_glyph\":{\"id\":\"1095\"},\"view\":{\"id\":\"1098\"}},\"id\":\"1097\",\"type\":\"GlyphRenderer\"},{\"attributes\":{},\"id\":\"1090\",\"type\":\"Selection\"},{\"attributes\":{\"coordinates\":null,\"formatter\":{\"id\":\"1059\"},\"group\":null,\"major_label_policy\":{\"id\":\"1060\"},\"ticker\":{\"id\":\"1015\"}},\"id\":\"1014\",\"type\":\"LinearAxis\"},{\"attributes\":{\"coordinates\":null,\"group\":null,\"text\":\"Shots made in each match\"},\"id\":\"1004\",\"type\":\"Title\"},{\"attributes\":{\"fill_alpha\":{\"value\":0.1},\"fill_color\":{\"field\":\"fill_color\"},\"hatch_alpha\":{\"value\":0.1},\"hatch_color\":{\"field\":\"hatch_color\"},\"line_alpha\":{\"value\":0.1},\"line_color\":{\"field\":\"line_color\"},\"marker\":{\"value\":\"plus\"},\"size\":{\"value\":20},\"x\":{\"field\":\"x\"},\"y\":{\"value\":-2}},\"id\":\"1095\",\"type\":\"Scatter\"},{\"attributes\":{\"bottom_units\":\"screen\",\"coordinates\":null,\"fill_alpha\":0.5,\"fill_color\":\"lightgrey\",\"group\":null,\"left_units\":\"screen\",\"level\":\"overlay\",\"line_alpha\":1.0,\"line_color\":\"black\",\"line_dash\":[4,4],\"line_width\":2,\"right_units\":\"screen\",\"syncable\":false,\"top_units\":\"screen\"},\"id\":\"1028\",\"type\":\"BoxAnnotation\"},{\"attributes\":{},\"id\":\"1015\",\"type\":\"BasicTicker\"},{\"attributes\":{},\"id\":\"1027\",\"type\":\"HelpTool\"},{\"attributes\":{},\"id\":\"1062\",\"type\":\"Selection\"},{\"attributes\":{\"coordinates\":null,\"formatter\":{\"id\":\"1056\"},\"group\":null,\"major_label_policy\":{\"id\":\"1057\"},\"ticker\":{\"id\":\"1019\"}},\"id\":\"1018\",\"type\":\"LinearAxis\"},{\"attributes\":{\"fill_alpha\":{\"value\":0.2},\"fill_color\":{\"field\":\"fill_color\"},\"hatch_alpha\":{\"value\":0.2},\"hatch_color\":{\"field\":\"hatch_color\"},\"line_alpha\":{\"value\":0.2},\"line_color\":{\"field\":\"line_color\"},\"marker\":{\"value\":\"plus\"},\"size\":{\"value\":20},\"x\":{\"field\":\"x\"},\"y\":{\"value\":-2}},\"id\":\"1096\",\"type\":\"Scatter\"},{\"attributes\":{},\"id\":\"1061\",\"type\":\"UnionRenderers\"},{\"attributes\":{\"global_alpha\":{\"value\":0.1},\"h\":{\"value\":16.666666666666668},\"url\":{\"field\":\"url\"},\"w\":{\"value\":6.5},\"x\":{\"value\":3.25},\"y\":{\"value\":10.0}},\"id\":\"1038\",\"type\":\"ImageURL\"},{\"attributes\":{\"coordinates\":null,\"data_source\":{\"id\":\"1036\"},\"glyph\":{\"id\":\"1037\"},\"group\":null,\"hover_glyph\":null,\"muted_glyph\":{\"id\":\"1039\"},\"nonselection_glyph\":{\"id\":\"1038\"},\"view\":{\"id\":\"1041\"}},\"id\":\"1040\",\"type\":\"GlyphRenderer\"},{\"attributes\":{\"data\":{\"size\":[23.75,30.0,5.0,25.238095238095237,26.428571428571427,11.25,16.666666666666664,30.0,27.22222222222222,26.59090909090909],\"x\":[1,2,3,4,5,6,7,8,9,10],\"y\":[9,17,0,17,12,4,7,13,16,19]},\"selected\":{\"id\":\"1066\"},\"selection_policy\":{\"id\":\"1065\"}},\"id\":\"1048\",\"type\":\"ColumnDataSource\"},{\"attributes\":{\"end\":13},\"id\":\"1006\",\"type\":\"Range1d\"},{\"attributes\":{},\"id\":\"1010\",\"type\":\"LinearScale\"},{\"attributes\":{\"source\":{\"id\":\"1070\"}},\"id\":\"1075\",\"type\":\"CDSView\"},{\"attributes\":{\"line_color\":\"saddlebrown\",\"line_width\":2,\"x\":{\"field\":\"x\"},\"y\":{\"field\":\"y\"}},\"id\":\"1043\",\"type\":\"Line\"},{\"attributes\":{\"end\":20,\"start\":-2},\"id\":\"1008\",\"type\":\"Range1d\"},{\"attributes\":{\"fill_alpha\":{\"value\":0.1},\"fill_color\":{\"value\":\"deeppink\"},\"hatch_alpha\":{\"value\":0.1},\"hatch_color\":{\"value\":\"deeppink\"},\"line_alpha\":{\"value\":0.1},\"line_color\":{\"value\":\"deeppink\"},\"marker\":{\"value\":\"square\"},\"size\":{\"value\":6},\"x\":{\"field\":\"x\"},\"y\":{\"field\":\"y\"}},\"id\":\"1072\",\"type\":\"Scatter\"},{\"attributes\":{\"fill_alpha\":{\"value\":0.75},\"fill_color\":{\"field\":\"fill_color\"},\"hatch_alpha\":{\"value\":0.75},\"hatch_color\":{\"field\":\"hatch_color\"},\"line_alpha\":{\"value\":0.75},\"line_color\":{\"field\":\"line_color\"},\"marker\":{\"value\":\"plus\"},\"size\":{\"value\":20},\"x\":{\"field\":\"x\"},\"y\":{\"value\":-2}},\"id\":\"1094\",\"type\":\"Scatter\"},{\"attributes\":{\"fill_alpha\":{\"value\":0.75},\"fill_color\":{\"value\":\"saddlebrown\"},\"hatch_alpha\":{\"value\":0.75},\"hatch_color\":{\"value\":\"saddlebrown\"},\"line_alpha\":{\"value\":0.75},\"line_color\":{\"value\":\"saddlebrown\"},\"size\":{\"field\":\"size\"},\"x\":{\"field\":\"x\"},\"y\":{\"field\":\"y\"}},\"id\":\"1049\",\"type\":\"Circle\"},{\"attributes\":{\"fill_alpha\":{\"value\":0.2},\"fill_color\":{\"value\":\"deeppink\"},\"hatch_alpha\":{\"value\":0.2},\"hatch_color\":{\"value\":\"deeppink\"},\"line_alpha\":{\"value\":0.2},\"line_color\":{\"value\":\"deeppink\"},\"marker\":{\"value\":\"square\"},\"size\":{\"value\":6},\"x\":{\"field\":\"x\"},\"y\":{\"field\":\"y\"}},\"id\":\"1073\",\"type\":\"Scatter\"},{\"attributes\":{},\"id\":\"1066\",\"type\":\"Selection\"},{\"attributes\":{},\"id\":\"1012\",\"type\":\"LinearScale\"},{\"attributes\":{},\"id\":\"1056\",\"type\":\"BasicTickFormatter\"}],\"root_ids\":[\"1003\"]},\"title\":\"Bokeh Application\",\"version\":\"2.4.3\"}};\n",
       "  const render_items = [{\"docid\":\"64fee247-f20d-4f75-a5e7-4a785195050c\",\"root_ids\":[\"1003\"],\"roots\":{\"1003\":\"0f839fa1-7459-483f-8fc4-21ab3ac62761\"}}];\n",
       "  root.Bokeh.embed.embed_items_notebook(docs_json, render_items);\n",
       "  }\n",
       "  if (root.Bokeh !== undefined) {\n",
       "    embed_document(root);\n",
       "  } else {\n",
       "    let attempts = 0;\n",
       "    const timer = setInterval(function(root) {\n",
       "      if (root.Bokeh !== undefined) {\n",
       "        clearInterval(timer);\n",
       "        embed_document(root);\n",
       "      } else {\n",
       "        attempts++;\n",
       "        if (attempts > 100) {\n",
       "          clearInterval(timer);\n",
       "          console.log(\"Bokeh: ERROR: Unable to run BokehJS code because BokehJS library is missing\");\n",
       "        }\n",
       "      }\n",
       "    }, 10, root)\n",
       "  }\n",
       "})(window);"
      ],
      "application/vnd.bokehjs_exec.v0+json": ""
     },
     "metadata": {
      "application/vnd.bokehjs_exec.v0+json": {
       "id": "1003"
      }
     },
     "output_type": "display_data"
    },
    {
     "name": "stdout",
     "output_type": "stream",
     "text": [
      "\n",
      "<h1>111</h1><br><strong>\n",
      "shots in regional: 114<br>\n",
      "max shots in single match: 19<br>\n",
      "regional shot percentage: 77.0%<br>\n",
      "average climb level: 3.4<br>\n",
      "taxi percentage: 90.0%\n",
      "</strong>\n"
     ]
    }
   ],
   "source": [
    "team_num = 111\n",
    "\n",
    "team = regional[team_num]\n",
    "shots_high = team['shots_high']\n",
    "\n",
    "\n",
    "match_num = [i+1 for i in range(len(shots_high))] # -> [1,2,3,4...]\n",
    "\n",
    "\n",
    "fig = figure(title='Shots made in each match',\n",
    "             plot_height=300, plot_width=500,\n",
    "             x_range=(0, max(match_num)+3), y_range=(-2, max(shots_high)+1),\n",
    "             toolbar_location=\"right\")\n",
    "\n",
    "fig.image_url(url=['MM_logo.png'], x=(max(match_num)+3)/4, y=(max(shots_high)+1)/2, w=(max(match_num)+3)/2, h=(max(shots_high)+1)/1.2, alpha=.25)\n",
    "\n",
    "shot_percent = [made/total/2 if total else 0 for made, total in zip(team['shots_high'], team['total_shots'])]\n",
    "size = [sp*100/2 + 5 for sp in shot_percent]\n",
    "\n",
    "fig.line(x=match_num, y=shots_high, line_width=2, color='saddlebrown')\n",
    "fig.circle(x=match_num, y=shots_high, legend_label=\"shots\",\n",
    "           color='saddlebrown', size=size, alpha=0.75)\n",
    "\n",
    "\n",
    "fig.square(x=match_num,y=team['climbs'], legend_label=\"climb\",\n",
    "          color= 'deeppink', size=6, alpha=0.75)\n",
    "\n",
    "\n",
    "\n",
    "\n",
    "taxi = ['green' if taxi else 'red' for taxi in team['taxis']] \n",
    "fig.plus(x=match_num, y=-2, legend_label=\"taxi\",\n",
    "        color=taxi,  size=20, alpha=0.75)\n",
    "\n",
    "\n",
    "\n",
    "html = f'''\n",
    "<h1>{team_num}</h1><br><strong>\n",
    "shots in regional: {team['shots_in_regional']}<br>\n",
    "max shots in single match: {max(shots_high)}<br>\n",
    "regional shot percentage: {team['shot_percentage']*100}%<br>\n",
    "average climb level: {team['climb_average']}<br>\n",
    "taxi percentage: {sum(team['taxis'])/len(team['taxis'])*100}%\n",
    "</strong>'''\n",
    "\n",
    "# Show plot|\n",
    "display(HTML(html))\n",
    "show(fig)\n",
    "print(html)\n"
   ]
  },
  {
   "cell_type": "code",
   "execution_count": 21,
   "id": "3ae43ea3",
   "metadata": {},
   "outputs": [
    {
     "name": "stdout",
     "output_type": "stream",
     "text": [
      "[9, 17, 0, 17, 12, 4, 7, 13, 16, 19, 6, 5, 3, 2, 2, 5, 4, 3, 0, 4, 3, 0, 2, 4, 3, 13, 3, 1, 4, 14, 1, 0, 0, 0, 0, 0, 1, 0, 0, 0, 0]\n"
     ]
    },
    {
     "name": "stderr",
     "output_type": "stream",
     "text": [
      "BokehUserWarning: ColumnDataSource's columns must be of the same length. Current lengths: ('x', 10), ('y', 11)\n"
     ]
    },
    {
     "data": {
      "text/html": [
       "\n",
       "  <div class=\"bk-root\" id=\"46c42e8b-9da4-434e-b515-16b917da1ed3\" data-root-id=\"2996\"></div>\n"
      ]
     },
     "metadata": {},
     "output_type": "display_data"
    },
    {
     "data": {
      "application/javascript": [
       "(function(root) {\n",
       "  function embed_document(root) {\n",
       "  const docs_json = {\"90b88277-d064-4900-8376-8a7029ea9cf3\":{\"defs\":[],\"roots\":{\"references\":[{\"attributes\":{\"below\":[{\"id\":\"3007\"}],\"center\":[{\"id\":\"3010\"},{\"id\":\"3014\"},{\"id\":\"3045\"}],\"height\":500,\"left\":[{\"id\":\"3011\"}],\"renderers\":[{\"id\":\"3033\"},{\"id\":\"3051\"},{\"id\":\"3070\"},{\"id\":\"3091\"}],\"title\":{\"id\":\"2997\"},\"toolbar\":{\"id\":\"3022\"},\"width\":800,\"x_range\":{\"id\":\"2999\"},\"x_scale\":{\"id\":\"3003\"},\"y_range\":{\"id\":\"3001\"},\"y_scale\":{\"id\":\"3005\"}},\"id\":\"2996\",\"subtype\":\"Figure\",\"type\":\"Plot\"},{\"attributes\":{\"fill_alpha\":{\"value\":0.75},\"fill_color\":{\"value\":\"deepskyblue\"},\"hatch_alpha\":{\"value\":0.75},\"hatch_color\":{\"value\":\"deepskyblue\"},\"line_alpha\":{\"value\":0.75},\"line_color\":{\"value\":\"deepskyblue\"},\"size\":{\"value\":20},\"x\":{\"field\":\"x\"},\"y\":{\"field\":\"y\"}},\"id\":\"3030\",\"type\":\"Circle\"},{\"attributes\":{},\"id\":\"3020\",\"type\":\"HelpTool\"},{\"attributes\":{\"overlay\":{\"id\":\"3021\"}},\"id\":\"3017\",\"type\":\"BoxZoomTool\"},{\"attributes\":{\"end\":13},\"id\":\"2999\",\"type\":\"Range1d\"},{\"attributes\":{},\"id\":\"3018\",\"type\":\"SaveTool\"},{\"attributes\":{},\"id\":\"3019\",\"type\":\"ResetTool\"},{\"attributes\":{\"coordinates\":null,\"data_source\":{\"id\":\"3029\"},\"glyph\":{\"id\":\"3030\"},\"group\":null,\"hover_glyph\":null,\"muted_glyph\":{\"id\":\"3032\"},\"nonselection_glyph\":{\"id\":\"3031\"},\"view\":{\"id\":\"3034\"}},\"id\":\"3033\",\"type\":\"GlyphRenderer\"},{\"attributes\":{\"bottom_units\":\"screen\",\"coordinates\":null,\"fill_alpha\":0.5,\"fill_color\":\"lightgrey\",\"group\":null,\"left_units\":\"screen\",\"level\":\"overlay\",\"line_alpha\":1.0,\"line_color\":\"black\",\"line_dash\":[4,4],\"line_width\":2,\"right_units\":\"screen\",\"syncable\":false,\"top_units\":\"screen\"},\"id\":\"3021\",\"type\":\"BoxAnnotation\"},{\"attributes\":{},\"id\":\"3043\",\"type\":\"Selection\"},{\"attributes\":{\"source\":{\"id\":\"3066\"}},\"id\":\"3071\",\"type\":\"CDSView\"},{\"attributes\":{\"fill_alpha\":{\"value\":0.2},\"fill_color\":{\"value\":\"deepskyblue\"},\"hatch_alpha\":{\"value\":0.2},\"hatch_color\":{\"value\":\"deepskyblue\"},\"line_alpha\":{\"value\":0.2},\"line_color\":{\"value\":\"deepskyblue\"},\"size\":{\"value\":20},\"x\":{\"field\":\"x\"},\"y\":{\"field\":\"y\"}},\"id\":\"3032\",\"type\":\"Circle\"},{\"attributes\":{},\"id\":\"3016\",\"type\":\"WheelZoomTool\"},{\"attributes\":{\"tools\":[{\"id\":\"3015\"},{\"id\":\"3016\"},{\"id\":\"3017\"},{\"id\":\"3018\"},{\"id\":\"3019\"},{\"id\":\"3020\"}]},\"id\":\"3022\",\"type\":\"Toolbar\"},{\"attributes\":{},\"id\":\"3042\",\"type\":\"UnionRenderers\"},{\"attributes\":{},\"id\":\"3005\",\"type\":\"LinearScale\"},{\"attributes\":{},\"id\":\"3107\",\"type\":\"Selection\"},{\"attributes\":{\"fill_alpha\":{\"value\":0.75},\"fill_color\":{\"value\":\"saddlebrown\"},\"hatch_alpha\":{\"value\":0.75},\"hatch_color\":{\"value\":\"saddlebrown\"},\"line_alpha\":{\"value\":0.75},\"line_color\":{\"value\":\"saddlebrown\"},\"size\":{\"value\":20},\"x\":{\"field\":\"x\"},\"y\":{\"field\":\"y\"}},\"id\":\"3088\",\"type\":\"Circle\"},{\"attributes\":{},\"id\":\"3041\",\"type\":\"AllLabels\"},{\"attributes\":{\"fill_alpha\":{\"value\":0.2},\"fill_color\":{\"value\":\"saddlebrown\"},\"hatch_alpha\":{\"value\":0.2},\"hatch_color\":{\"value\":\"saddlebrown\"},\"line_alpha\":{\"value\":0.2},\"line_color\":{\"value\":\"saddlebrown\"},\"size\":{\"value\":20},\"x\":{\"field\":\"x\"},\"y\":{\"field\":\"y\"}},\"id\":\"3090\",\"type\":\"Circle\"},{\"attributes\":{},\"id\":\"3062\",\"type\":\"UnionRenderers\"},{\"attributes\":{\"data\":{\"x\":[1,2,3,4,5,6,7,8,9,10],\"y\":[0,0,0,0,0,1,0,0,0,0]},\"selected\":{\"id\":\"3107\"},\"selection_policy\":{\"id\":\"3106\"}},\"id\":\"3087\",\"type\":\"ColumnDataSource\"},{\"attributes\":{\"coordinates\":null,\"group\":null,\"text\":\"Shots made in each match\"},\"id\":\"2997\",\"type\":\"Title\"},{\"attributes\":{},\"id\":\"3038\",\"type\":\"AllLabels\"},{\"attributes\":{\"label\":{\"value\":\"4645\"},\"renderers\":[{\"id\":\"3091\"}]},\"id\":\"3109\",\"type\":\"LegendItem\"},{\"attributes\":{\"coordinates\":null,\"formatter\":{\"id\":\"3040\"},\"group\":null,\"major_label_policy\":{\"id\":\"3041\"},\"ticker\":{\"id\":\"3008\"}},\"id\":\"3007\",\"type\":\"LinearAxis\"},{\"attributes\":{\"fill_alpha\":{\"value\":0.1},\"fill_color\":{\"value\":\"saddlebrown\"},\"hatch_alpha\":{\"value\":0.1},\"hatch_color\":{\"value\":\"saddlebrown\"},\"line_alpha\":{\"value\":0.1},\"line_color\":{\"value\":\"saddlebrown\"},\"size\":{\"value\":20},\"x\":{\"field\":\"x\"},\"y\":{\"field\":\"y\"}},\"id\":\"3089\",\"type\":\"Circle\"},{\"attributes\":{\"axis\":{\"id\":\"3011\"},\"coordinates\":null,\"dimension\":1,\"group\":null,\"ticker\":null},\"id\":\"3014\",\"type\":\"Grid\"},{\"attributes\":{\"source\":{\"id\":\"3087\"}},\"id\":\"3092\",\"type\":\"CDSView\"},{\"attributes\":{},\"id\":\"3040\",\"type\":\"BasicTickFormatter\"},{\"attributes\":{\"label\":{\"value\":\"111\"},\"renderers\":[{\"id\":\"3033\"}]},\"id\":\"3046\",\"type\":\"LegendItem\"},{\"attributes\":{\"fill_alpha\":{\"value\":0.75},\"fill_color\":{\"value\":\"deeppink\"},\"hatch_alpha\":{\"value\":0.75},\"hatch_color\":{\"value\":\"deeppink\"},\"line_alpha\":{\"value\":0.75},\"line_color\":{\"value\":\"deeppink\"},\"size\":{\"value\":20},\"x\":{\"field\":\"x\"},\"y\":{\"field\":\"y\"}},\"id\":\"3048\",\"type\":\"Circle\"},{\"attributes\":{\"data\":{\"x\":[1,2,3,4,5,6,7,8,9,10],\"y\":[9,17,0,17,12,4,7,13,16,19]},\"selected\":{\"id\":\"3043\"},\"selection_policy\":{\"id\":\"3042\"}},\"id\":\"3029\",\"type\":\"ColumnDataSource\"},{\"attributes\":{\"fill_alpha\":{\"value\":0.75},\"fill_color\":{\"value\":\"gold\"},\"hatch_alpha\":{\"value\":0.75},\"hatch_color\":{\"value\":\"gold\"},\"line_alpha\":{\"value\":0.75},\"line_color\":{\"value\":\"gold\"},\"size\":{\"value\":20},\"x\":{\"field\":\"x\"},\"y\":{\"field\":\"y\"}},\"id\":\"3067\",\"type\":\"Circle\"},{\"attributes\":{\"coordinates\":null,\"formatter\":{\"id\":\"3037\"},\"group\":null,\"major_label_policy\":{\"id\":\"3038\"},\"ticker\":{\"id\":\"3012\"}},\"id\":\"3011\",\"type\":\"LinearAxis\"},{\"attributes\":{\"fill_alpha\":{\"value\":0.2},\"fill_color\":{\"value\":\"deeppink\"},\"hatch_alpha\":{\"value\":0.2},\"hatch_color\":{\"value\":\"deeppink\"},\"line_alpha\":{\"value\":0.2},\"line_color\":{\"value\":\"deeppink\"},\"size\":{\"value\":20},\"x\":{\"field\":\"x\"},\"y\":{\"field\":\"y\"}},\"id\":\"3050\",\"type\":\"Circle\"},{\"attributes\":{},\"id\":\"3037\",\"type\":\"BasicTickFormatter\"},{\"attributes\":{\"data\":{\"x\":[1,2,3,4,5,6,7,8,9,10],\"y\":[6,5,3,2,2,5,4,3,0,4]},\"selected\":{\"id\":\"3063\"},\"selection_policy\":{\"id\":\"3062\"}},\"id\":\"3047\",\"type\":\"ColumnDataSource\"},{\"attributes\":{\"fill_alpha\":{\"value\":0.2},\"fill_color\":{\"value\":\"gold\"},\"hatch_alpha\":{\"value\":0.2},\"hatch_color\":{\"value\":\"gold\"},\"line_alpha\":{\"value\":0.2},\"line_color\":{\"value\":\"gold\"},\"size\":{\"value\":20},\"x\":{\"field\":\"x\"},\"y\":{\"field\":\"y\"}},\"id\":\"3069\",\"type\":\"Circle\"},{\"attributes\":{\"fill_alpha\":{\"value\":0.1},\"fill_color\":{\"value\":\"deepskyblue\"},\"hatch_alpha\":{\"value\":0.1},\"hatch_color\":{\"value\":\"deepskyblue\"},\"line_alpha\":{\"value\":0.1},\"line_color\":{\"value\":\"deepskyblue\"},\"size\":{\"value\":20},\"x\":{\"field\":\"x\"},\"y\":{\"field\":\"y\"}},\"id\":\"3031\",\"type\":\"Circle\"},{\"attributes\":{},\"id\":\"3015\",\"type\":\"PanTool\"},{\"attributes\":{\"data\":{\"x\":[1,2,3,4,5,6,7,8,9,10],\"y\":[3,0,2,4,3,13,3,1,4,14,1]},\"selected\":{\"id\":\"3084\"},\"selection_policy\":{\"id\":\"3083\"}},\"id\":\"3066\",\"type\":\"ColumnDataSource\"},{\"attributes\":{\"source\":{\"id\":\"3029\"}},\"id\":\"3034\",\"type\":\"CDSView\"},{\"attributes\":{},\"id\":\"3106\",\"type\":\"UnionRenderers\"},{\"attributes\":{\"label\":{\"value\":\"8122\"},\"renderers\":[{\"id\":\"3051\"}]},\"id\":\"3065\",\"type\":\"LegendItem\"},{\"attributes\":{},\"id\":\"3012\",\"type\":\"BasicTicker\"},{\"attributes\":{},\"id\":\"3003\",\"type\":\"LinearScale\"},{\"attributes\":{\"coordinates\":null,\"data_source\":{\"id\":\"3047\"},\"glyph\":{\"id\":\"3048\"},\"group\":null,\"hover_glyph\":null,\"muted_glyph\":{\"id\":\"3050\"},\"nonselection_glyph\":{\"id\":\"3049\"},\"view\":{\"id\":\"3052\"}},\"id\":\"3051\",\"type\":\"GlyphRenderer\"},{\"attributes\":{\"fill_alpha\":{\"value\":0.1},\"fill_color\":{\"value\":\"deeppink\"},\"hatch_alpha\":{\"value\":0.1},\"hatch_color\":{\"value\":\"deeppink\"},\"line_alpha\":{\"value\":0.1},\"line_color\":{\"value\":\"deeppink\"},\"size\":{\"value\":20},\"x\":{\"field\":\"x\"},\"y\":{\"field\":\"y\"}},\"id\":\"3049\",\"type\":\"Circle\"},{\"attributes\":{\"label\":{\"value\":\"4096\"},\"renderers\":[{\"id\":\"3070\"}]},\"id\":\"3086\",\"type\":\"LegendItem\"},{\"attributes\":{\"source\":{\"id\":\"3047\"}},\"id\":\"3052\",\"type\":\"CDSView\"},{\"attributes\":{\"fill_alpha\":{\"value\":0.1},\"fill_color\":{\"value\":\"gold\"},\"hatch_alpha\":{\"value\":0.1},\"hatch_color\":{\"value\":\"gold\"},\"line_alpha\":{\"value\":0.1},\"line_color\":{\"value\":\"gold\"},\"size\":{\"value\":20},\"x\":{\"field\":\"x\"},\"y\":{\"field\":\"y\"}},\"id\":\"3068\",\"type\":\"Circle\"},{\"attributes\":{},\"id\":\"3084\",\"type\":\"Selection\"},{\"attributes\":{\"coordinates\":null,\"data_source\":{\"id\":\"3066\"},\"glyph\":{\"id\":\"3067\"},\"group\":null,\"hover_glyph\":null,\"muted_glyph\":{\"id\":\"3069\"},\"nonselection_glyph\":{\"id\":\"3068\"},\"view\":{\"id\":\"3071\"}},\"id\":\"3070\",\"type\":\"GlyphRenderer\"},{\"attributes\":{},\"id\":\"3008\",\"type\":\"BasicTicker\"},{\"attributes\":{\"end\":20,\"start\":-2},\"id\":\"3001\",\"type\":\"Range1d\"},{\"attributes\":{\"coordinates\":null,\"group\":null,\"items\":[{\"id\":\"3046\"},{\"id\":\"3065\"},{\"id\":\"3086\"},{\"id\":\"3109\"}]},\"id\":\"3045\",\"type\":\"Legend\"},{\"attributes\":{\"coordinates\":null,\"data_source\":{\"id\":\"3087\"},\"glyph\":{\"id\":\"3088\"},\"group\":null,\"hover_glyph\":null,\"muted_glyph\":{\"id\":\"3090\"},\"nonselection_glyph\":{\"id\":\"3089\"},\"view\":{\"id\":\"3092\"}},\"id\":\"3091\",\"type\":\"GlyphRenderer\"},{\"attributes\":{},\"id\":\"3063\",\"type\":\"Selection\"},{\"attributes\":{},\"id\":\"3083\",\"type\":\"UnionRenderers\"},{\"attributes\":{\"axis\":{\"id\":\"3007\"},\"coordinates\":null,\"group\":null,\"ticker\":null},\"id\":\"3010\",\"type\":\"Grid\"}],\"root_ids\":[\"2996\"]},\"title\":\"Bokeh Application\",\"version\":\"2.4.3\"}};\n",
       "  const render_items = [{\"docid\":\"90b88277-d064-4900-8376-8a7029ea9cf3\",\"root_ids\":[\"2996\"],\"roots\":{\"2996\":\"46c42e8b-9da4-434e-b515-16b917da1ed3\"}}];\n",
       "  root.Bokeh.embed.embed_items_notebook(docs_json, render_items);\n",
       "  }\n",
       "  if (root.Bokeh !== undefined) {\n",
       "    embed_document(root);\n",
       "  } else {\n",
       "    let attempts = 0;\n",
       "    const timer = setInterval(function(root) {\n",
       "      if (root.Bokeh !== undefined) {\n",
       "        clearInterval(timer);\n",
       "        embed_document(root);\n",
       "      } else {\n",
       "        attempts++;\n",
       "        if (attempts > 100) {\n",
       "          clearInterval(timer);\n",
       "          console.log(\"Bokeh: ERROR: Unable to run BokehJS code because BokehJS library is missing\");\n",
       "        }\n",
       "      }\n",
       "    }, 10, root)\n",
       "  }\n",
       "})(window);"
      ],
      "application/vnd.bokehjs_exec.v0+json": ""
     },
     "metadata": {
      "application/vnd.bokehjs_exec.v0+json": {
       "id": "2996"
      }
     },
     "output_type": "display_data"
    }
   ],
   "source": [
    "team_nums = [111, 8122, 4096, 4645]\n",
    "\n",
    "teams = [regional[team_num] for team_num in team_nums]\n",
    "\n",
    "match_num = [i+1 for i in range(len(teams[0]['shots_high']))] # -> [1,2,3,4...]\n",
    "\n",
    "y_range = []\n",
    "for team in teams:\n",
    "    y_range.extend(team['shots_high'])\n",
    "\n",
    "print(y_range)\n",
    "fig = figure(title='Shots made in each match',\n",
    "             plot_height=500, plot_width=800,\n",
    "             x_range=(0, max(match_num)+3), y_range=(-2, max(y_range)+1),\n",
    "             toolbar_location=\"right\")\n",
    "\n",
    "for num, team in zip(team_nums, teams):  \n",
    "    fig.circle(x=match_num, y=team['shots_high'], legend_label = str(num),\n",
    "               color=get_color(num), size=20, alpha=0.75)\n",
    "\n",
    "\n",
    "show(fig)"
   ]
  },
  {
   "cell_type": "code",
   "execution_count": 11,
   "id": "98de6ffd",
   "metadata": {
    "scrolled": true
   },
   "outputs": [
    {
     "name": "stdout",
     "output_type": "stream",
     "text": [
      "[[48, 0.86],\n",
      " [2338, 0.84],\n",
      " [1732, 0.84],\n",
      " [3488, 0.81],\n",
      " [111, 0.77],\n",
      " [2451, 0.76],\n",
      " [112, 0.76],\n",
      " [3061, 0.71],\n",
      " [1781, 0.7],\n",
      " [2220, 0.69]]\n"
     ]
    }
   ],
   "source": [
    "tp = [[team, regional[team]['shot_percentage']] for team in regional]\n",
    "tp.sort(reverse=True, key=lambda sort:sort[1])\n",
    "pprint(tp[:10])"
   ]
  },
  {
   "cell_type": "code",
   "execution_count": 8,
   "id": "7ff69a6f",
   "metadata": {
    "scrolled": false
   },
   "outputs": [
    {
     "name": "stdout",
     "output_type": "stream",
     "text": [
      "dict_items([(4096, {'shots_high': [3, 0, 2, 4, 3, 13, 3, 1, 4, 14, 1], 'total_shots': [12, 0, 13, 10, 8, 21, 5, 3, 10, 17, 4], 'climbs': [1, 3, 3, 0, 3, 0, 3, 3, 3, 0, 0], 'taxis': [True, True, True, True, True, True, True, False, True, True, True], 'shots_in_regional': 48, 'shot_percentage': 0.47, 'climb_average': 1.7272727272727273}), (5125, {'shots_high': [0, 0, 0, 0, 0, 0, 0, 0, 0, 0], 'total_shots': [6, 7, 2, 7, 6, 9, 9, 0, 0, 1], 'climbs': [2, 3, 2, 3, 0, 3, 3, 3, 2, 3], 'taxis': [True, True, True, True, True, True, True, True, True, True], 'shots_in_regional': 0, 'shot_percentage': 0.0, 'climb_average': 2.4}), (7560, {'shots_high': [0, 0, 0, 0, 0, 0, 0, 0, 0, 0], 'total_shots': [0, 0, 0, 0, 0, 0, 1, 0, 0, 0], 'climbs': [3, 2, 3, 3, 3, 3, 1, 0, 3, 0], 'taxis': [False, False, True, True, True, True, True, True, True, False], 'shots_in_regional': 0, 'shot_percentage': 0.0, 'climb_average': 2.1}), (2830, {'shots_high': [7, 4, 9, 9, 13, 0, 6, 9, 11, 3], 'total_shots': [10, 5, 11, 16, 17, 0, 10, 14, 16, 5], 'climbs': [3, 3, 3, 2, 3, 3, 3, 3, 3, 3], 'taxis': [True, False, True, True, True, True, True, True, True, True], 'shots_in_regional': 71, 'shot_percentage': 0.68, 'climb_average': 2.9}), (2062, {'shots_high': [0, 1, 4, 1, 5, 2, 6, 4, 6, 0], 'total_shots': [0, 8, 12, 3, 10, 5, 12, 7, 13, 1], 'climbs': [0, 3, 0, 3, 3, 3, 3, 1, 3, 3], 'taxis': [True, True, True, True, True, True, True, True, True, True], 'shots_in_regional': 29, 'shot_percentage': 0.41, 'climb_average': 2.2}), (4241, {'shots_high': [3, 0, 0, 1, 0, 1, 0, 1, 1, 0], 'total_shots': [3, 4, 2, 2, 0, 3, 1, 4, 4, 2], 'climbs': [4, 3, 0, 5, 3, 1, 4, 4, 3, 5], 'taxis': [True, True, True, True, True, True, True, True, True, True], 'shots_in_regional': 7, 'shot_percentage': 0.28, 'climb_average': 3.2}), (2451, {'shots_high': [3, 11, 8, 11, 9, 14, 15, 7, 16, 8, 16], 'total_shots': [10, 15, 10, 13, 9, 21, 18, 10, 21, 11, 17], 'climbs': [0, 0, 4, 0, 0, 0, 0, 4, 4, 4, 0], 'taxis': [True, True, True, True, True, True, True, True, True, True, True], 'shots_in_regional': 118, 'shot_percentage': 0.76, 'climb_average': 1.4545454545454546}), (3734, {'shots_high': [4, 2, 5, 5, 0, 1, 7, 4, 6, 4], 'total_shots': [9, 7, 10, 8, 0, 2, 12, 8, 16, 7], 'climbs': [2, 2, 0, 3, 1, 1, 2, 1, 0, 3], 'taxis': [True, True, True, True, False, False, True, True, True, True], 'shots_in_regional': 38, 'shot_percentage': 0.48, 'climb_average': 1.5}), (3352, {'shots_high': [0, 0, 0, 0, 0, 0, 0, 0, 0, 0], 'total_shots': [3, 3, 2, 0, 0, 0, 3, 0, 2, 4], 'climbs': [0, 3, 3, 3, 3, 0, 3, 3, 3, 3], 'taxis': [True, True, True, True, True, True, True, True, True, True], 'shots_in_regional': 0, 'shot_percentage': 0.0, 'climb_average': 2.4}), (8096, {'shots_high': [0, 2, 1, 0, 0, 0, 0, 0, 0, 0], 'total_shots': [0, 3, 1, 0, 0, 0, 1, 0, 0, 0], 'climbs': [3, 3, 3, 1, 2, 3, 3, 2, 0, 3], 'taxis': [True, True, True, True, True, True, False, True, True, True], 'shots_in_regional': 3, 'shot_percentage': 0.6, 'climb_average': 2.3}), (3488, {'shots_high': [6, 2, 3, 2, 5, 0, 6, 6, 7, 5], 'total_shots': [6, 4, 3, 6, 5, 3, 6, 6, 8, 5], 'climbs': [3, 3, 1, 3, 3, 3, 3, 3, 3, 3], 'taxis': [True, True, True, True, True, True, True, True, True, True], 'shots_in_regional': 42, 'shot_percentage': 0.81, 'climb_average': 2.8}), (2338, {'shots_high': [1, 10, 12, 9, 13, 12, 12, 12, 13, 4], 'total_shots': [4, 11, 14, 10, 16, 14, 15, 14, 13, 5], 'climbs': [5, 5, 5, 5, 5, 5, 4, 4, 5, 5], 'taxis': [True, True, True, True, True, True, True, True, True, True], 'shots_in_regional': 98, 'shot_percentage': 0.84, 'climb_average': 4.8}), (7460, {'shots_high': [6, 3, 6, 8, 5, 4, 6, 4, 1, 4, 6], 'total_shots': [12, 6, 8, 10, 6, 11, 7, 6, 3, 6, 7], 'climbs': [5, 3, 1, 0, 0, 2, 3, 3, 4, 3, 5], 'taxis': [True, True, True, True, True, True, True, True, True, True, True], 'shots_in_regional': 53, 'shot_percentage': 0.65, 'climb_average': 2.6363636363636362}), (4645, {'shots_high': [0, 0, 0, 0, 0, 1, 0, 0, 0, 0], 'total_shots': [0, 3, 1, 3, 0, 2, 0, 3, 2, 2], 'climbs': [0, 0, 0, 0, 0, 0, 0, 0, 0, 0], 'taxis': [False, False, False, False, False, False, False, False, True, True], 'shots_in_regional': 1, 'shot_percentage': 0.06, 'climb_average': 0}), (677, {'shots_high': [3, 1, 0, 3, 5, 8, 2, 0, 0, 1], 'total_shots': [8, 7, 4, 3, 8, 9, 5, 0, 5, 5], 'climbs': [0, 0, 0, 0, 0, 0, 0, 0, 0, 0], 'taxis': [True, True, True, False, True, True, True, True, True, True], 'shots_in_regional': 23, 'shot_percentage': 0.43, 'climb_average': 0}), (3110, {'shots_high': [0, 0, 0, 0, 0, 0, 0, 0, 0, 0], 'total_shots': [0, 0, 0, 0, 1, 0, 0, 0, 0, 0], 'climbs': [0, 0, 0, 0, 0, 0, 0, 0, 0, 0], 'taxis': [True, True, True, False, True, True, True, True, False, True], 'shots_in_regional': 0, 'shot_percentage': 0.0, 'climb_average': 0}), (8868, {'shots_high': [0, 0, 0, 0, 0, 0, 0, 0, 0, 0], 'total_shots': [0, 0, 1, 1, 1, 1, 0, 0, 0, 4], 'climbs': [0, 0, 0, 0, 0, 0, 0, 0, 0, 0], 'taxis': [True, True, True, True, False, True, True, True, True, True], 'shots_in_regional': 0, 'shot_percentage': 0.0, 'climb_average': 0}), (2220, {'shots_high': [1, 4, 2, 4, 5, 3, 3, 6, 5], 'total_shots': [6, 6, 4, 5, 8, 4, 3, 6, 6], 'climbs': [3, 5, 4, 5, 4, 5, 3, 3, 5], 'taxis': [True, True, True, True, True, False, True, True, True], 'shots_in_regional': 33, 'shot_percentage': 0.69, 'climb_average': 4.111111111111111}), (5934, {'shots_high': [0, 0, 0, 0, 0, 0, 0, 0, 0], 'total_shots': [0, 6, 1, 0, 9, 3, 6, 0, 1], 'climbs': [5, 0, 5, 0, 3, 5, 1, 3, 3], 'taxis': [True, True, True, True, True, False, True, True, True], 'shots_in_regional': 0, 'shot_percentage': 0.0, 'climb_average': 2.7777777777777777}), (8880, {'shots_high': [1, 2, 1, 3, 0, 3, 1, 4, 2, 1], 'total_shots': [3, 5, 4, 6, 3, 5, 3, 5, 5, 4], 'climbs': [3, 3, 1, 3, 0, 2, 3, 3, 3, 3], 'taxis': [False, True, True, True, True, True, True, True, True, True], 'shots_in_regional': 18, 'shot_percentage': 0.42, 'climb_average': 2.4}), (5553, {'shots_high': [1, 8, 0, 1, 5, 2, 0, 3, 5, 0], 'total_shots': [5, 8, 0, 3, 8, 3, 2, 5, 9, 3], 'climbs': [3, 2, 0, 4, 4, 3, 4, 4, 0, 1], 'taxis': [True, True, True, True, True, True, True, True, True, True], 'shots_in_regional': 25, 'shot_percentage': 0.54, 'climb_average': 2.5}), (4145, {'shots_high': [4, 1, 4, 9, 8, 3, 4, 4, 2, 1], 'total_shots': [5, 3, 11, 11, 8, 5, 8, 7, 4, 1], 'climbs': [1, 0, 0, 0, 5, 1, 3, 5, 5, 5], 'taxis': [True, True, True, True, True, True, True, True, True, True], 'shots_in_regional': 40, 'shot_percentage': 0.63, 'climb_average': 2.5}), (4787, {'shots_high': [0, 0, 0, 0, 0, 0, 0, 0, 0, 0], 'total_shots': [5, 0, 4, 7, 7, 9, 0, 6, 0, 2], 'climbs': [3, 0, 0, 0, 3, 3, 1, 0, 3, 1], 'taxis': [True, True, False, True, False, True, True, True, True, True], 'shots_in_regional': 0, 'shot_percentage': 0.0, 'climb_average': 1.4}), (48, {'shots_high': [3, 8, 12, 7, 11, 6, 5, 14, 12, 7], 'total_shots': [5, 9, 13, 7, 11, 8, 9, 15, 14, 8], 'climbs': [1, 4, 4, 4, 5, 3, 4, 5, 1, 5], 'taxis': [True, False, True, True, True, True, True, True, True, True], 'shots_in_regional': 85, 'shot_percentage': 0.86, 'climb_average': 3.6}), (2358, {'shots_high': [5, 9, 6, 5, 4, 4, 1, 7, 4, 8], 'total_shots': [10, 10, 11, 8, 8, 6, 8, 11, 8, 10], 'climbs': [5, 5, 5, 5, 5, 5, 5, 5, 5, 5], 'taxis': [True, True, True, True, True, True, True, True, True, True], 'shots_in_regional': 53, 'shot_percentage': 0.59, 'climb_average': 5}), (8122, {'shots_high': [6, 5, 3, 2, 2, 5, 4, 3, 0, 4], 'total_shots': [12, 9, 12, 9, 8, 11, 14, 7, 0, 13], 'climbs': [3, 3, 3, 3, 3, 3, 3, 1, 4, 1], 'taxis': [True, True, True, True, True, True, True, True, True, True], 'shots_in_regional': 34, 'shot_percentage': 0.36, 'climb_average': 2.7}), (5822, {'shots_high': [0, 0, 0, 0, 0, 0, 0, 0, 0, 0], 'total_shots': [11, 6, 6, 1, 0, 1, 8, 9, 0, 2], 'climbs': [5, 5, 5, 0, 0, 5, 0, 5, 5, 5], 'taxis': [False, True, True, False, True, True, True, True, True, True], 'shots_in_regional': 0, 'shot_percentage': 0.0, 'climb_average': 3.5}), (4292, {'shots_high': [0, 0, 0, 0, 0, 0, 0, 0, 0, 0], 'total_shots': [1, 0, 5, 4, 2, 1, 2, 5, 0, 3], 'climbs': [0, 0, 3, 3, 0, 0, 0, 0, 0, 0], 'taxis': [True, True, True, True, True, True, True, True, True, True], 'shots_in_regional': 0, 'shot_percentage': 0.0, 'climb_average': 0.6}), (7237, {'shots_high': [0, 0, 0, 0, 0, 0, 0, 0, 0, 0], 'total_shots': [0, 0, 6, 8, 0, 13, 4, 7, 0, 1], 'climbs': [0, 1, 4, 3, 0, 0, 0, 3, 3, 2], 'taxis': [False, False, True, True, False, True, True, True, False, True], 'shots_in_regional': 0, 'shot_percentage': 0.0, 'climb_average': 1.6}), (1732, {'shots_high': [17, 17, 16, 10, 15, 0, 7, 10, 15, 17], 'total_shots': [19, 20, 18, 12, 15, 2, 10, 13, 20, 18], 'climbs': [4, 0, 4, 3, 4, 3, 4, 4, 3, 1], 'taxis': [True, True, True, True, True, True, True, True, True, True], 'shots_in_regional': 124, 'shot_percentage': 0.84, 'climb_average': 3}), (3067, {'shots_high': [0, 0, 1, 0, 1, 0, 0, 0, 0, 0], 'total_shots': [6, 8, 3, 2, 3, 10, 2, 6, 0, 3], 'climbs': [1, 0, 3, 0, 1, 3, 0, 3, 0, 3], 'taxis': [True, True, True, True, True, True, True, True, True, True], 'shots_in_regional': 2, 'shot_percentage': 0.05, 'climb_average': 1.4}), (1739, {'shots_high': [0, 0, 1, 0, 0, 0, 0, 1, 0, 0, 0], 'total_shots': [14, 0, 7, 9, 1, 0, 4, 7, 8, 10, 0], 'climbs': [3, 3, 1, 1, 1, 3, 3, 1, 1, 0, 3], 'taxis': [True, True, True, True, True, True, True, True, True, True, True], 'shots_in_regional': 2, 'shot_percentage': 0.03, 'climb_average': 1.8181818181818181}), (5847, {'shots_high': [5, 3, 2, 6, 5, 2, 8, 12, 4, 5], 'total_shots': [7, 4, 5, 7, 5, 10, 10, 13, 7, 8], 'climbs': [5, 5, 0, 4, 4, 4, 5, 5, 3, 1], 'taxis': [True, True, True, True, True, True, True, True, True, True], 'shots_in_regional': 52, 'shot_percentage': 0.68, 'climb_average': 3.6}), (1625, {'shots_high': [9, 8, 3, 8, 7, 3, 7, 6, 3, 2], 'total_shots': [12, 10, 6, 12, 14, 9, 12, 11, 9, 3], 'climbs': [5, 4, 5, 4, 3, 4, 4, 4, 0, 0], 'taxis': [True, True, True, True, True, True, True, False, True, True], 'shots_in_regional': 56, 'shot_percentage': 0.57, 'climb_average': 3.3}), (8029, {'shots_high': [0, 2, 0, 0, 4, 0, 4, 3, 1], 'total_shots': [0, 8, 2, 1, 5, 0, 4, 9, 4], 'climbs': [4, 1, 3, 0, 0, 0, 3, 3, 3], 'taxis': [True, True, True, True, True, True, True, True, True], 'shots_in_regional': 14, 'shot_percentage': 0.42, 'climb_average': 1.8888888888888888}), (4702, {'shots_high': [0, 0, 0, 0, 0, 2, 0, 0, 0, 0], 'total_shots': [0, 0, 0, 1, 0, 2, 0, 0, 1, 0], 'climbs': [0, 0, 3, 0, 3, 0, 0, 0, 3, 3], 'taxis': [True, True, True, True, True, True, True, True, True, True], 'shots_in_regional': 2, 'shot_percentage': 0.5, 'climb_average': 1.2}), (8802, {'shots_high': [0, 0, 0, 0, 0, 0, 0, 0, 0, 0], 'total_shots': [0, 0, 0, 1, 0, 0, 0, 0, 0, 0], 'climbs': [0, 3, 2, 3, 3, 0, 2, 1, 3, 0], 'taxis': [True, True, True, True, True, True, True, True, True, False], 'shots_in_regional': 0, 'shot_percentage': 0.0, 'climb_average': 1.7}), (101, {'shots_high': [0, 0, 0, 0, 0, 0, 0, 0, 1, 0], 'total_shots': [0, 0, 0, 0, 2, 0, 0, 0, 4, 0], 'climbs': [0, 0, 0, 0, 0, 0, 0, 0, 0, 0], 'taxis': [True, True, True, True, True, True, True, True, True, True], 'shots_in_regional': 1, 'shot_percentage': 0.17, 'climb_average': 0}), (2022, {'shots_high': [0, 2, 0, 5, 0, 0, 1, 4, 0, 0], 'total_shots': [0, 6, 0, 7, 0, 1, 1, 7, 0, 0], 'climbs': [5, 4, 0, 0, 5, 0, 0, 4, 0, 0], 'taxis': [True, False, True, True, False, True, True, True, True, False], 'shots_in_regional': 12, 'shot_percentage': 0.55, 'climb_average': 1.8}), (2151, {'shots_high': [0, 0, 0, 0, 0, 0, 0, 0, 0, 0], 'total_shots': [0, 1, 0, 0, 0, 0, 0, 0, 2, 0], 'climbs': [0, 0, 0, 0, 0, 0, 0, 0, 0, 0], 'taxis': [True, True, True, True, True, True, True, True, True, True], 'shots_in_regional': 0, 'shot_percentage': 0.0, 'climb_average': 0}), (6381, {'shots_high': [11, 6, 7, 5, 10, 9, 2, 5, 8, 6], 'total_shots': [12, 7, 12, 12, 15, 10, 6, 10, 13, 8], 'climbs': [3, 2, 0, 1, 3, 0, 3, 2, 3, 3], 'taxis': [True, True, False, True, True, True, True, True, True, True], 'shots_in_regional': 69, 'shot_percentage': 0.66, 'climb_average': 2}), (111, {'shots_high': [9, 17, 0, 17, 12, 4, 7, 13, 16, 19], 'total_shots': [12, 17, 0, 21, 14, 16, 15, 13, 18, 22], 'climbs': [0, 5, 1, 5, 5, 4, 5, 0, 5, 4], 'taxis': [True, True, False, True, True, True, True, True, True, True], 'shots_in_regional': 114, 'shot_percentage': 0.77, 'climb_average': 3.4}), (3695, {'shots_high': [3, 5, 4, 0, 10, 2, 4, 10, 7, 6], 'total_shots': [10, 8, 12, 8, 13, 9, 6, 11, 15, 12], 'climbs': [4, 4, 4, 1, 4, 4, 4, 4, 4, 3], 'taxis': [True, True, True, True, True, True, True, True, True, True], 'shots_in_regional': 51, 'shot_percentage': 0.49, 'climb_average': 3.6}), (112, {'shots_high': [12, 7, 11, 4, 7, 0, 13, 9, 15, 9], 'total_shots': [16, 10, 14, 8, 8, 0, 18, 10, 17, 14], 'climbs': [3, 4, 4, 3, 3, 4, 4, 4, 0, 4], 'taxis': [True, False, True, False, True, True, True, True, True, True], 'shots_in_regional': 87, 'shot_percentage': 0.76, 'climb_average': 3.3}), (1781, {'shots_high': [5, 6, 5, 5, 5, 9, 6, 5, 6, 8], 'total_shots': [5, 10, 8, 6, 6, 12, 8, 11, 9, 11], 'climbs': [5, 5, 5, 4, 4, 5, 1, 5, 5, 5], 'taxis': [True, True, True, True, True, True, True, True, True, True], 'shots_in_regional': 60, 'shot_percentage': 0.7, 'climb_average': 4.4}), (3061, {'shots_high': [5, 5, 0, 5, 10, 11, 9, 14, 8, 10], 'total_shots': [7, 10, 0, 11, 11, 12, 13, 17, 15, 12], 'climbs': [5, 5, 4, 3, 5, 5, 5, 5, 5, 4], 'taxis': [True, True, True, True, True, True, True, True, True, True], 'shots_in_regional': 77, 'shot_percentage': 0.71, 'climb_average': 4.6}), (6651, {'shots_high': [0, 0, 1, 2, 0, 3, 6, 6, 0, 3], 'total_shots': [0, 0, 3, 4, 4, 10, 7, 9, 0, 6], 'climbs': [1, 1, 1, 1, 0, 0, 2, 0, 0, 1], 'taxis': [False, True, True, True, False, True, True, True, False, False], 'shots_in_regional': 21, 'shot_percentage': 0.49, 'climb_average': 0.7})])\n"
     ]
    }
   ],
   "source": [
    "pprint(regional.items())"
   ]
  },
  {
   "cell_type": "code",
   "execution_count": null,
   "id": "11f8c1cf",
   "metadata": {},
   "outputs": [],
   "source": []
  }
 ],
 "metadata": {
  "kernelspec": {
   "display_name": "Python 3 (ipykernel)",
   "language": "python",
   "name": "python3"
  },
  "language_info": {
   "codemirror_mode": {
    "name": "ipython",
    "version": 3
   },
   "file_extension": ".py",
   "mimetype": "text/x-python",
   "name": "python",
   "nbconvert_exporter": "python",
   "pygments_lexer": "ipython3",
   "version": "3.10.5"
  }
 },
 "nbformat": 4,
 "nbformat_minor": 5
}
