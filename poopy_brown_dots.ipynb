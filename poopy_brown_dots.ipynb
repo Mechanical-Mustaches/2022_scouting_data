{
 "cells": [
  {
   "cell_type": "code",
   "execution_count": 1,
   "id": "3f0013e3",
   "metadata": {},
   "outputs": [
    {
     "data": {
      "text/html": [
       "<div class=\"bk-root\">\n",
       "        <a href=\"https://bokeh.org\" target=\"_blank\" class=\"bk-logo bk-logo-small bk-logo-notebook\"></a>\n",
       "        <span id=\"1002\">Loading BokehJS ...</span>\n",
       "    </div>\n"
      ]
     },
     "metadata": {},
     "output_type": "display_data"
    },
    {
     "data": {
      "application/javascript": [
       "(function(root) {\n",
       "  function now() {\n",
       "    return new Date();\n",
       "  }\n",
       "\n",
       "  const force = true;\n",
       "\n",
       "  if (typeof root._bokeh_onload_callbacks === \"undefined\" || force === true) {\n",
       "    root._bokeh_onload_callbacks = [];\n",
       "    root._bokeh_is_loading = undefined;\n",
       "  }\n",
       "\n",
       "const JS_MIME_TYPE = 'application/javascript';\n",
       "  const HTML_MIME_TYPE = 'text/html';\n",
       "  const EXEC_MIME_TYPE = 'application/vnd.bokehjs_exec.v0+json';\n",
       "  const CLASS_NAME = 'output_bokeh rendered_html';\n",
       "\n",
       "  /**\n",
       "   * Render data to the DOM node\n",
       "   */\n",
       "  function render(props, node) {\n",
       "    const script = document.createElement(\"script\");\n",
       "    node.appendChild(script);\n",
       "  }\n",
       "\n",
       "  /**\n",
       "   * Handle when an output is cleared or removed\n",
       "   */\n",
       "  function handleClearOutput(event, handle) {\n",
       "    const cell = handle.cell;\n",
       "\n",
       "    const id = cell.output_area._bokeh_element_id;\n",
       "    const server_id = cell.output_area._bokeh_server_id;\n",
       "    // Clean up Bokeh references\n",
       "    if (id != null && id in Bokeh.index) {\n",
       "      Bokeh.index[id].model.document.clear();\n",
       "      delete Bokeh.index[id];\n",
       "    }\n",
       "\n",
       "    if (server_id !== undefined) {\n",
       "      // Clean up Bokeh references\n",
       "      const cmd_clean = \"from bokeh.io.state import curstate; print(curstate().uuid_to_server['\" + server_id + \"'].get_sessions()[0].document.roots[0]._id)\";\n",
       "      cell.notebook.kernel.execute(cmd_clean, {\n",
       "        iopub: {\n",
       "          output: function(msg) {\n",
       "            const id = msg.content.text.trim();\n",
       "            if (id in Bokeh.index) {\n",
       "              Bokeh.index[id].model.document.clear();\n",
       "              delete Bokeh.index[id];\n",
       "            }\n",
       "          }\n",
       "        }\n",
       "      });\n",
       "      // Destroy server and session\n",
       "      const cmd_destroy = \"import bokeh.io.notebook as ion; ion.destroy_server('\" + server_id + \"')\";\n",
       "      cell.notebook.kernel.execute(cmd_destroy);\n",
       "    }\n",
       "  }\n",
       "\n",
       "  /**\n",
       "   * Handle when a new output is added\n",
       "   */\n",
       "  function handleAddOutput(event, handle) {\n",
       "    const output_area = handle.output_area;\n",
       "    const output = handle.output;\n",
       "\n",
       "    // limit handleAddOutput to display_data with EXEC_MIME_TYPE content only\n",
       "    if ((output.output_type != \"display_data\") || (!Object.prototype.hasOwnProperty.call(output.data, EXEC_MIME_TYPE))) {\n",
       "      return\n",
       "    }\n",
       "\n",
       "    const toinsert = output_area.element.find(\".\" + CLASS_NAME.split(' ')[0]);\n",
       "\n",
       "    if (output.metadata[EXEC_MIME_TYPE][\"id\"] !== undefined) {\n",
       "      toinsert[toinsert.length - 1].firstChild.textContent = output.data[JS_MIME_TYPE];\n",
       "      // store reference to embed id on output_area\n",
       "      output_area._bokeh_element_id = output.metadata[EXEC_MIME_TYPE][\"id\"];\n",
       "    }\n",
       "    if (output.metadata[EXEC_MIME_TYPE][\"server_id\"] !== undefined) {\n",
       "      const bk_div = document.createElement(\"div\");\n",
       "      bk_div.innerHTML = output.data[HTML_MIME_TYPE];\n",
       "      const script_attrs = bk_div.children[0].attributes;\n",
       "      for (let i = 0; i < script_attrs.length; i++) {\n",
       "        toinsert[toinsert.length - 1].firstChild.setAttribute(script_attrs[i].name, script_attrs[i].value);\n",
       "        toinsert[toinsert.length - 1].firstChild.textContent = bk_div.children[0].textContent\n",
       "      }\n",
       "      // store reference to server id on output_area\n",
       "      output_area._bokeh_server_id = output.metadata[EXEC_MIME_TYPE][\"server_id\"];\n",
       "    }\n",
       "  }\n",
       "\n",
       "  function register_renderer(events, OutputArea) {\n",
       "\n",
       "    function append_mime(data, metadata, element) {\n",
       "      // create a DOM node to render to\n",
       "      const toinsert = this.create_output_subarea(\n",
       "        metadata,\n",
       "        CLASS_NAME,\n",
       "        EXEC_MIME_TYPE\n",
       "      );\n",
       "      this.keyboard_manager.register_events(toinsert);\n",
       "      // Render to node\n",
       "      const props = {data: data, metadata: metadata[EXEC_MIME_TYPE]};\n",
       "      render(props, toinsert[toinsert.length - 1]);\n",
       "      element.append(toinsert);\n",
       "      return toinsert\n",
       "    }\n",
       "\n",
       "    /* Handle when an output is cleared or removed */\n",
       "    events.on('clear_output.CodeCell', handleClearOutput);\n",
       "    events.on('delete.Cell', handleClearOutput);\n",
       "\n",
       "    /* Handle when a new output is added */\n",
       "    events.on('output_added.OutputArea', handleAddOutput);\n",
       "\n",
       "    /**\n",
       "     * Register the mime type and append_mime function with output_area\n",
       "     */\n",
       "    OutputArea.prototype.register_mime_type(EXEC_MIME_TYPE, append_mime, {\n",
       "      /* Is output safe? */\n",
       "      safe: true,\n",
       "      /* Index of renderer in `output_area.display_order` */\n",
       "      index: 0\n",
       "    });\n",
       "  }\n",
       "\n",
       "  // register the mime type if in Jupyter Notebook environment and previously unregistered\n",
       "  if (root.Jupyter !== undefined) {\n",
       "    const events = require('base/js/events');\n",
       "    const OutputArea = require('notebook/js/outputarea').OutputArea;\n",
       "\n",
       "    if (OutputArea.prototype.mime_types().indexOf(EXEC_MIME_TYPE) == -1) {\n",
       "      register_renderer(events, OutputArea);\n",
       "    }\n",
       "  }\n",
       "  if (typeof (root._bokeh_timeout) === \"undefined\" || force === true) {\n",
       "    root._bokeh_timeout = Date.now() + 5000;\n",
       "    root._bokeh_failed_load = false;\n",
       "  }\n",
       "\n",
       "  const NB_LOAD_WARNING = {'data': {'text/html':\n",
       "     \"<div style='background-color: #fdd'>\\n\"+\n",
       "     \"<p>\\n\"+\n",
       "     \"BokehJS does not appear to have successfully loaded. If loading BokehJS from CDN, this \\n\"+\n",
       "     \"may be due to a slow or bad network connection. Possible fixes:\\n\"+\n",
       "     \"</p>\\n\"+\n",
       "     \"<ul>\\n\"+\n",
       "     \"<li>re-rerun `output_notebook()` to attempt to load from CDN again, or</li>\\n\"+\n",
       "     \"<li>use INLINE resources instead, as so:</li>\\n\"+\n",
       "     \"</ul>\\n\"+\n",
       "     \"<code>\\n\"+\n",
       "     \"from bokeh.resources import INLINE\\n\"+\n",
       "     \"output_notebook(resources=INLINE)\\n\"+\n",
       "     \"</code>\\n\"+\n",
       "     \"</div>\"}};\n",
       "\n",
       "  function display_loaded() {\n",
       "    const el = document.getElementById(\"1002\");\n",
       "    if (el != null) {\n",
       "      el.textContent = \"BokehJS is loading...\";\n",
       "    }\n",
       "    if (root.Bokeh !== undefined) {\n",
       "      if (el != null) {\n",
       "        el.textContent = \"BokehJS \" + root.Bokeh.version + \" successfully loaded.\";\n",
       "      }\n",
       "    } else if (Date.now() < root._bokeh_timeout) {\n",
       "      setTimeout(display_loaded, 100)\n",
       "    }\n",
       "  }\n",
       "\n",
       "  function run_callbacks() {\n",
       "    try {\n",
       "      root._bokeh_onload_callbacks.forEach(function(callback) {\n",
       "        if (callback != null)\n",
       "          callback();\n",
       "      });\n",
       "    } finally {\n",
       "      delete root._bokeh_onload_callbacks\n",
       "    }\n",
       "    console.debug(\"Bokeh: all callbacks have finished\");\n",
       "  }\n",
       "\n",
       "  function load_libs(css_urls, js_urls, callback) {\n",
       "    if (css_urls == null) css_urls = [];\n",
       "    if (js_urls == null) js_urls = [];\n",
       "\n",
       "    root._bokeh_onload_callbacks.push(callback);\n",
       "    if (root._bokeh_is_loading > 0) {\n",
       "      console.debug(\"Bokeh: BokehJS is being loaded, scheduling callback at\", now());\n",
       "      return null;\n",
       "    }\n",
       "    if (js_urls == null || js_urls.length === 0) {\n",
       "      run_callbacks();\n",
       "      return null;\n",
       "    }\n",
       "    console.debug(\"Bokeh: BokehJS not loaded, scheduling load and callback at\", now());\n",
       "    root._bokeh_is_loading = css_urls.length + js_urls.length;\n",
       "\n",
       "    function on_load() {\n",
       "      root._bokeh_is_loading--;\n",
       "      if (root._bokeh_is_loading === 0) {\n",
       "        console.debug(\"Bokeh: all BokehJS libraries/stylesheets loaded\");\n",
       "        run_callbacks()\n",
       "      }\n",
       "    }\n",
       "\n",
       "    function on_error(url) {\n",
       "      console.error(\"failed to load \" + url);\n",
       "    }\n",
       "\n",
       "    for (let i = 0; i < css_urls.length; i++) {\n",
       "      const url = css_urls[i];\n",
       "      const element = document.createElement(\"link\");\n",
       "      element.onload = on_load;\n",
       "      element.onerror = on_error.bind(null, url);\n",
       "      element.rel = \"stylesheet\";\n",
       "      element.type = \"text/css\";\n",
       "      element.href = url;\n",
       "      console.debug(\"Bokeh: injecting link tag for BokehJS stylesheet: \", url);\n",
       "      document.body.appendChild(element);\n",
       "    }\n",
       "\n",
       "    for (let i = 0; i < js_urls.length; i++) {\n",
       "      const url = js_urls[i];\n",
       "      const element = document.createElement('script');\n",
       "      element.onload = on_load;\n",
       "      element.onerror = on_error.bind(null, url);\n",
       "      element.async = false;\n",
       "      element.src = url;\n",
       "      console.debug(\"Bokeh: injecting script tag for BokehJS library: \", url);\n",
       "      document.head.appendChild(element);\n",
       "    }\n",
       "  };\n",
       "\n",
       "  function inject_raw_css(css) {\n",
       "    const element = document.createElement(\"style\");\n",
       "    element.appendChild(document.createTextNode(css));\n",
       "    document.body.appendChild(element);\n",
       "  }\n",
       "\n",
       "  const js_urls = [\"https://cdn.bokeh.org/bokeh/release/bokeh-2.4.3.min.js\", \"https://cdn.bokeh.org/bokeh/release/bokeh-gl-2.4.3.min.js\", \"https://cdn.bokeh.org/bokeh/release/bokeh-widgets-2.4.3.min.js\", \"https://cdn.bokeh.org/bokeh/release/bokeh-tables-2.4.3.min.js\", \"https://cdn.bokeh.org/bokeh/release/bokeh-mathjax-2.4.3.min.js\"];\n",
       "  const css_urls = [];\n",
       "\n",
       "  const inline_js = [    function(Bokeh) {\n",
       "      Bokeh.set_log_level(\"info\");\n",
       "    },\n",
       "function(Bokeh) {\n",
       "    }\n",
       "  ];\n",
       "\n",
       "  function run_inline_js() {\n",
       "    if (root.Bokeh !== undefined || force === true) {\n",
       "          for (let i = 0; i < inline_js.length; i++) {\n",
       "      inline_js[i].call(root, root.Bokeh);\n",
       "    }\n",
       "if (force === true) {\n",
       "        display_loaded();\n",
       "      }} else if (Date.now() < root._bokeh_timeout) {\n",
       "      setTimeout(run_inline_js, 100);\n",
       "    } else if (!root._bokeh_failed_load) {\n",
       "      console.log(\"Bokeh: BokehJS failed to load within specified timeout.\");\n",
       "      root._bokeh_failed_load = true;\n",
       "    } else if (force !== true) {\n",
       "      const cell = $(document.getElementById(\"1002\")).parents('.cell').data().cell;\n",
       "      cell.output_area.append_execute_result(NB_LOAD_WARNING)\n",
       "    }\n",
       "  }\n",
       "\n",
       "  if (root._bokeh_is_loading === 0) {\n",
       "    console.debug(\"Bokeh: BokehJS loaded, going straight to plotting\");\n",
       "    run_inline_js();\n",
       "  } else {\n",
       "    load_libs(css_urls, js_urls, function() {\n",
       "      console.debug(\"Bokeh: BokehJS plotting callback run at\", now());\n",
       "      run_inline_js();\n",
       "    });\n",
       "  }\n",
       "}(window));"
      ],
      "application/vnd.bokehjs_load.v0+json": "(function(root) {\n  function now() {\n    return new Date();\n  }\n\n  const force = true;\n\n  if (typeof root._bokeh_onload_callbacks === \"undefined\" || force === true) {\n    root._bokeh_onload_callbacks = [];\n    root._bokeh_is_loading = undefined;\n  }\n\n\n  if (typeof (root._bokeh_timeout) === \"undefined\" || force === true) {\n    root._bokeh_timeout = Date.now() + 5000;\n    root._bokeh_failed_load = false;\n  }\n\n  const NB_LOAD_WARNING = {'data': {'text/html':\n     \"<div style='background-color: #fdd'>\\n\"+\n     \"<p>\\n\"+\n     \"BokehJS does not appear to have successfully loaded. If loading BokehJS from CDN, this \\n\"+\n     \"may be due to a slow or bad network connection. Possible fixes:\\n\"+\n     \"</p>\\n\"+\n     \"<ul>\\n\"+\n     \"<li>re-rerun `output_notebook()` to attempt to load from CDN again, or</li>\\n\"+\n     \"<li>use INLINE resources instead, as so:</li>\\n\"+\n     \"</ul>\\n\"+\n     \"<code>\\n\"+\n     \"from bokeh.resources import INLINE\\n\"+\n     \"output_notebook(resources=INLINE)\\n\"+\n     \"</code>\\n\"+\n     \"</div>\"}};\n\n  function display_loaded() {\n    const el = document.getElementById(\"1002\");\n    if (el != null) {\n      el.textContent = \"BokehJS is loading...\";\n    }\n    if (root.Bokeh !== undefined) {\n      if (el != null) {\n        el.textContent = \"BokehJS \" + root.Bokeh.version + \" successfully loaded.\";\n      }\n    } else if (Date.now() < root._bokeh_timeout) {\n      setTimeout(display_loaded, 100)\n    }\n  }\n\n  function run_callbacks() {\n    try {\n      root._bokeh_onload_callbacks.forEach(function(callback) {\n        if (callback != null)\n          callback();\n      });\n    } finally {\n      delete root._bokeh_onload_callbacks\n    }\n    console.debug(\"Bokeh: all callbacks have finished\");\n  }\n\n  function load_libs(css_urls, js_urls, callback) {\n    if (css_urls == null) css_urls = [];\n    if (js_urls == null) js_urls = [];\n\n    root._bokeh_onload_callbacks.push(callback);\n    if (root._bokeh_is_loading > 0) {\n      console.debug(\"Bokeh: BokehJS is being loaded, scheduling callback at\", now());\n      return null;\n    }\n    if (js_urls == null || js_urls.length === 0) {\n      run_callbacks();\n      return null;\n    }\n    console.debug(\"Bokeh: BokehJS not loaded, scheduling load and callback at\", now());\n    root._bokeh_is_loading = css_urls.length + js_urls.length;\n\n    function on_load() {\n      root._bokeh_is_loading--;\n      if (root._bokeh_is_loading === 0) {\n        console.debug(\"Bokeh: all BokehJS libraries/stylesheets loaded\");\n        run_callbacks()\n      }\n    }\n\n    function on_error(url) {\n      console.error(\"failed to load \" + url);\n    }\n\n    for (let i = 0; i < css_urls.length; i++) {\n      const url = css_urls[i];\n      const element = document.createElement(\"link\");\n      element.onload = on_load;\n      element.onerror = on_error.bind(null, url);\n      element.rel = \"stylesheet\";\n      element.type = \"text/css\";\n      element.href = url;\n      console.debug(\"Bokeh: injecting link tag for BokehJS stylesheet: \", url);\n      document.body.appendChild(element);\n    }\n\n    for (let i = 0; i < js_urls.length; i++) {\n      const url = js_urls[i];\n      const element = document.createElement('script');\n      element.onload = on_load;\n      element.onerror = on_error.bind(null, url);\n      element.async = false;\n      element.src = url;\n      console.debug(\"Bokeh: injecting script tag for BokehJS library: \", url);\n      document.head.appendChild(element);\n    }\n  };\n\n  function inject_raw_css(css) {\n    const element = document.createElement(\"style\");\n    element.appendChild(document.createTextNode(css));\n    document.body.appendChild(element);\n  }\n\n  const js_urls = [\"https://cdn.bokeh.org/bokeh/release/bokeh-2.4.3.min.js\", \"https://cdn.bokeh.org/bokeh/release/bokeh-gl-2.4.3.min.js\", \"https://cdn.bokeh.org/bokeh/release/bokeh-widgets-2.4.3.min.js\", \"https://cdn.bokeh.org/bokeh/release/bokeh-tables-2.4.3.min.js\", \"https://cdn.bokeh.org/bokeh/release/bokeh-mathjax-2.4.3.min.js\"];\n  const css_urls = [];\n\n  const inline_js = [    function(Bokeh) {\n      Bokeh.set_log_level(\"info\");\n    },\nfunction(Bokeh) {\n    }\n  ];\n\n  function run_inline_js() {\n    if (root.Bokeh !== undefined || force === true) {\n          for (let i = 0; i < inline_js.length; i++) {\n      inline_js[i].call(root, root.Bokeh);\n    }\nif (force === true) {\n        display_loaded();\n      }} else if (Date.now() < root._bokeh_timeout) {\n      setTimeout(run_inline_js, 100);\n    } else if (!root._bokeh_failed_load) {\n      console.log(\"Bokeh: BokehJS failed to load within specified timeout.\");\n      root._bokeh_failed_load = true;\n    } else if (force !== true) {\n      const cell = $(document.getElementById(\"1002\")).parents('.cell').data().cell;\n      cell.output_area.append_execute_result(NB_LOAD_WARNING)\n    }\n  }\n\n  if (root._bokeh_is_loading === 0) {\n    console.debug(\"Bokeh: BokehJS loaded, going straight to plotting\");\n    run_inline_js();\n  } else {\n    load_libs(css_urls, js_urls, function() {\n      console.debug(\"Bokeh: BokehJS plotting callback run at\", now());\n      run_inline_js();\n    });\n  }\n}(window));"
     },
     "metadata": {},
     "output_type": "display_data"
    },
    {
     "name": "stdout",
     "output_type": "stream",
     "text": [
      "Congrats line 5 ran\n",
      "__name__ is  main\n"
     ]
    }
   ],
   "source": [
    "# Bokeh Libraries\n",
    "import bokeh.io\n",
    "from bokeh.plotting import figure, show\n",
    "\n",
    "bokeh.io.reset_output()\n",
    "bokeh.io.output_notebook()\n",
    "\n",
    "import main\n",
    "from pprint import pprint\n",
    "from IPython.display import display, HTML\n",
    "import itertools \n",
    "import random\n"
   ]
  },
  {
   "cell_type": "code",
   "execution_count": 2,
   "id": "1b3153c1",
   "metadata": {
    "scrolled": true
   },
   "outputs": [],
   "source": [
    "#matches = main.load_folder('CIL_matches')\n",
    "matches, regional = main.load_folder('Midwest Regional')\n"
   ]
  },
  {
   "cell_type": "code",
   "execution_count": 3,
   "id": "ab08d60b",
   "metadata": {},
   "outputs": [],
   "source": [
    "colors = ['deepskyblue', 'olive','firebrick', 'gold', 'green' ]\n",
    "\n",
    "def get_color(team_num):\n",
    "    if team_num == 8122:\n",
    "        return 'deeppink'\n",
    "    elif team_num == 4645:\n",
    "        return 'saddlebrown'\n",
    "    else:\n",
    "        return random.choice(colors)\n",
    "        "
   ]
  },
  {
   "cell_type": "code",
   "execution_count": null,
   "id": "11f8c1cf",
   "metadata": {},
   "outputs": [],
   "source": []
  },
  {
   "cell_type": "code",
   "execution_count": 4,
   "id": "fa077c45",
   "metadata": {
    "scrolled": true
   },
   "outputs": [
    {
     "name": "stdout",
     "output_type": "stream",
     "text": [
      "<main.Team object at 0x00000173B7ABB400>\n"
     ]
    }
   ],
   "source": [
    "pprint(regional[8122])"
   ]
  },
  {
   "cell_type": "code",
   "execution_count": 5,
   "id": "9155afb3",
   "metadata": {},
   "outputs": [
    {
     "data": {
      "text/html": [
       "\n",
       "<h1>111</h1><br><strong>\n",
       "shots in regional: 114<br>\n",
       "max shots in single match: 19<br>\n",
       "regional shot percentage: 77.0%<br>\n",
       "average climb level: 3.4<br>\n",
       "taxi percentage: 90.0%\n",
       "</strong>"
      ],
      "text/plain": [
       "<IPython.core.display.HTML object>"
      ]
     },
     "metadata": {},
     "output_type": "display_data"
    },
    {
     "data": {
      "text/html": [
       "\n",
       "  <div class=\"bk-root\" id=\"f37b28eb-698a-4ad4-a3fd-e30165f870ac\" data-root-id=\"1003\"></div>\n"
      ]
     },
     "metadata": {},
     "output_type": "display_data"
    },
    {
     "data": {
      "application/javascript": [
       "(function(root) {\n",
       "  function embed_document(root) {\n",
       "  const docs_json = {\"63f9755e-8f5c-4951-9ac0-5e3ee182877c\":{\"defs\":[],\"roots\":{\"references\":[{\"attributes\":{\"below\":[{\"id\":\"1014\"}],\"center\":[{\"id\":\"1017\"},{\"id\":\"1021\"},{\"id\":\"1068\"}],\"height\":300,\"left\":[{\"id\":\"1018\"}],\"renderers\":[{\"id\":\"1040\"},{\"id\":\"1046\"},{\"id\":\"1052\"},{\"id\":\"1074\"},{\"id\":\"1097\"}],\"title\":{\"id\":\"1004\"},\"toolbar\":{\"id\":\"1029\"},\"width\":500,\"x_range\":{\"id\":\"1006\"},\"x_scale\":{\"id\":\"1010\"},\"y_range\":{\"id\":\"1008\"},\"y_scale\":{\"id\":\"1012\"}},\"id\":\"1003\",\"subtype\":\"Figure\",\"type\":\"Plot\"},{\"attributes\":{},\"id\":\"1056\",\"type\":\"BasicTickFormatter\"},{\"attributes\":{},\"id\":\"1026\",\"type\":\"ResetTool\"},{\"attributes\":{},\"id\":\"1025\",\"type\":\"SaveTool\"},{\"attributes\":{\"fill_alpha\":{\"value\":0.1},\"fill_color\":{\"value\":\"deeppink\"},\"hatch_alpha\":{\"value\":0.1},\"hatch_color\":{\"value\":\"deeppink\"},\"line_alpha\":{\"value\":0.1},\"line_color\":{\"value\":\"deeppink\"},\"marker\":{\"value\":\"square\"},\"size\":{\"value\":6},\"x\":{\"field\":\"x\"},\"y\":{\"field\":\"y\"}},\"id\":\"1072\",\"type\":\"Scatter\"},{\"attributes\":{\"overlay\":{\"id\":\"1028\"}},\"id\":\"1024\",\"type\":\"BoxZoomTool\"},{\"attributes\":{},\"id\":\"1022\",\"type\":\"PanTool\"},{\"attributes\":{\"label\":{\"value\":\"taxi\"},\"renderers\":[{\"id\":\"1097\"}]},\"id\":\"1117\",\"type\":\"LegendItem\"},{\"attributes\":{},\"id\":\"1023\",\"type\":\"WheelZoomTool\"},{\"attributes\":{\"coordinates\":null,\"data_source\":{\"id\":\"1093\"},\"glyph\":{\"id\":\"1094\"},\"group\":null,\"hover_glyph\":null,\"muted_glyph\":{\"id\":\"1096\"},\"nonselection_glyph\":{\"id\":\"1095\"},\"view\":{\"id\":\"1098\"}},\"id\":\"1097\",\"type\":\"GlyphRenderer\"},{\"attributes\":{},\"id\":\"1057\",\"type\":\"AllLabels\"},{\"attributes\":{\"coordinates\":null,\"data_source\":{\"id\":\"1048\"},\"glyph\":{\"id\":\"1049\"},\"group\":null,\"hover_glyph\":null,\"muted_glyph\":{\"id\":\"1051\"},\"nonselection_glyph\":{\"id\":\"1050\"},\"view\":{\"id\":\"1053\"}},\"id\":\"1052\",\"type\":\"GlyphRenderer\"},{\"attributes\":{},\"id\":\"1114\",\"type\":\"UnionRenderers\"},{\"attributes\":{},\"id\":\"1019\",\"type\":\"BasicTicker\"},{\"attributes\":{\"label\":{\"value\":\"climb\"},\"renderers\":[{\"id\":\"1074\"}]},\"id\":\"1092\",\"type\":\"LegendItem\"},{\"attributes\":{\"axis\":{\"id\":\"1018\"},\"coordinates\":null,\"dimension\":1,\"group\":null,\"ticker\":null},\"id\":\"1021\",\"type\":\"Grid\"},{\"attributes\":{\"coordinates\":null,\"data_source\":{\"id\":\"1070\"},\"glyph\":{\"id\":\"1071\"},\"group\":null,\"hover_glyph\":null,\"muted_glyph\":{\"id\":\"1073\"},\"nonselection_glyph\":{\"id\":\"1072\"},\"view\":{\"id\":\"1075\"}},\"id\":\"1074\",\"type\":\"GlyphRenderer\"},{\"attributes\":{\"axis\":{\"id\":\"1014\"},\"coordinates\":null,\"group\":null,\"ticker\":null},\"id\":\"1017\",\"type\":\"Grid\"},{\"attributes\":{\"coordinates\":null,\"formatter\":{\"id\":\"1059\"},\"group\":null,\"major_label_policy\":{\"id\":\"1060\"},\"ticker\":{\"id\":\"1015\"}},\"id\":\"1014\",\"type\":\"LinearAxis\"},{\"attributes\":{},\"id\":\"1061\",\"type\":\"UnionRenderers\"},{\"attributes\":{},\"id\":\"1012\",\"type\":\"LinearScale\"},{\"attributes\":{\"line_color\":\"saddlebrown\",\"line_width\":2,\"x\":{\"field\":\"x\"},\"y\":{\"field\":\"y\"}},\"id\":\"1043\",\"type\":\"Line\"},{\"attributes\":{\"global_alpha\":{\"value\":0.25},\"h\":{\"value\":16.666666666666668},\"url\":{\"field\":\"url\"},\"w\":{\"value\":6.5},\"x\":{\"value\":3.25},\"y\":{\"value\":10.0}},\"id\":\"1037\",\"type\":\"ImageURL\"},{\"attributes\":{\"line_alpha\":0.2,\"line_color\":\"saddlebrown\",\"line_width\":2,\"x\":{\"field\":\"x\"},\"y\":{\"field\":\"y\"}},\"id\":\"1045\",\"type\":\"Line\"},{\"attributes\":{\"coordinates\":null,\"group\":null,\"items\":[{\"id\":\"1069\"},{\"id\":\"1092\"},{\"id\":\"1117\"}]},\"id\":\"1068\",\"type\":\"Legend\"},{\"attributes\":{\"data\":{\"url\":[\"MM_logo.png\"]},\"selected\":{\"id\":\"1062\"},\"selection_policy\":{\"id\":\"1061\"}},\"id\":\"1036\",\"type\":\"ColumnDataSource\"},{\"attributes\":{\"source\":{\"id\":\"1093\"}},\"id\":\"1098\",\"type\":\"CDSView\"},{\"attributes\":{\"fill_alpha\":{\"value\":0.1},\"fill_color\":{\"field\":\"fill_color\"},\"hatch_alpha\":{\"value\":0.1},\"hatch_color\":{\"field\":\"hatch_color\"},\"line_alpha\":{\"value\":0.1},\"line_color\":{\"field\":\"line_color\"},\"marker\":{\"value\":\"plus\"},\"size\":{\"value\":20},\"x\":{\"field\":\"x\"},\"y\":{\"value\":-2}},\"id\":\"1095\",\"type\":\"Scatter\"},{\"attributes\":{\"fill_alpha\":{\"value\":0.2},\"fill_color\":{\"field\":\"fill_color\"},\"hatch_alpha\":{\"value\":0.2},\"hatch_color\":{\"field\":\"hatch_color\"},\"line_alpha\":{\"value\":0.2},\"line_color\":{\"field\":\"line_color\"},\"marker\":{\"value\":\"plus\"},\"size\":{\"value\":20},\"x\":{\"field\":\"x\"},\"y\":{\"value\":-2}},\"id\":\"1096\",\"type\":\"Scatter\"},{\"attributes\":{\"fill_alpha\":{\"value\":0.1},\"fill_color\":{\"value\":\"saddlebrown\"},\"hatch_alpha\":{\"value\":0.1},\"hatch_color\":{\"value\":\"saddlebrown\"},\"line_alpha\":{\"value\":0.1},\"line_color\":{\"value\":\"saddlebrown\"},\"size\":{\"field\":\"size\"},\"x\":{\"field\":\"x\"},\"y\":{\"field\":\"y\"}},\"id\":\"1050\",\"type\":\"Circle\"},{\"attributes\":{\"source\":{\"id\":\"1042\"}},\"id\":\"1047\",\"type\":\"CDSView\"},{\"attributes\":{},\"id\":\"1063\",\"type\":\"UnionRenderers\"},{\"attributes\":{\"fill_alpha\":{\"value\":0.2},\"fill_color\":{\"value\":\"saddlebrown\"},\"hatch_alpha\":{\"value\":0.2},\"hatch_color\":{\"value\":\"saddlebrown\"},\"line_alpha\":{\"value\":0.2},\"line_color\":{\"value\":\"saddlebrown\"},\"size\":{\"field\":\"size\"},\"x\":{\"field\":\"x\"},\"y\":{\"field\":\"y\"}},\"id\":\"1051\",\"type\":\"Circle\"},{\"attributes\":{\"end\":13},\"id\":\"1006\",\"type\":\"Range1d\"},{\"attributes\":{},\"id\":\"1059\",\"type\":\"BasicTickFormatter\"},{\"attributes\":{\"label\":{\"value\":\"shots\"},\"renderers\":[{\"id\":\"1052\"}]},\"id\":\"1069\",\"type\":\"LegendItem\"},{\"attributes\":{\"data\":{\"size\":[23.75,30.0,5.0,25.238095238095237,26.428571428571427,11.25,16.666666666666664,30.0,27.22222222222222,26.59090909090909],\"x\":[1,2,3,4,5,6,7,8,9,10],\"y\":[9,17,0,17,12,4,7,13,16,19]},\"selected\":{\"id\":\"1066\"},\"selection_policy\":{\"id\":\"1065\"}},\"id\":\"1048\",\"type\":\"ColumnDataSource\"},{\"attributes\":{},\"id\":\"1064\",\"type\":\"Selection\"},{\"attributes\":{},\"id\":\"1090\",\"type\":\"Selection\"},{\"attributes\":{\"coordinates\":null,\"formatter\":{\"id\":\"1056\"},\"group\":null,\"major_label_policy\":{\"id\":\"1057\"},\"ticker\":{\"id\":\"1019\"}},\"id\":\"1018\",\"type\":\"LinearAxis\"},{\"attributes\":{\"source\":{\"id\":\"1048\"}},\"id\":\"1053\",\"type\":\"CDSView\"},{\"attributes\":{\"fill_alpha\":{\"value\":0.75},\"fill_color\":{\"field\":\"fill_color\"},\"hatch_alpha\":{\"value\":0.75},\"hatch_color\":{\"field\":\"hatch_color\"},\"line_alpha\":{\"value\":0.75},\"line_color\":{\"field\":\"line_color\"},\"marker\":{\"value\":\"plus\"},\"size\":{\"value\":20},\"x\":{\"field\":\"x\"},\"y\":{\"value\":-2}},\"id\":\"1094\",\"type\":\"Scatter\"},{\"attributes\":{\"fill_alpha\":{\"value\":0.75},\"fill_color\":{\"value\":\"deeppink\"},\"hatch_alpha\":{\"value\":0.75},\"hatch_color\":{\"value\":\"deeppink\"},\"line_alpha\":{\"value\":0.75},\"line_color\":{\"value\":\"deeppink\"},\"marker\":{\"value\":\"square\"},\"size\":{\"value\":6},\"x\":{\"field\":\"x\"},\"y\":{\"field\":\"y\"}},\"id\":\"1071\",\"type\":\"Scatter\"},{\"attributes\":{\"end\":20,\"start\":-2},\"id\":\"1008\",\"type\":\"Range1d\"},{\"attributes\":{},\"id\":\"1089\",\"type\":\"UnionRenderers\"},{\"attributes\":{},\"id\":\"1010\",\"type\":\"LinearScale\"},{\"attributes\":{\"coordinates\":null,\"data_source\":{\"id\":\"1042\"},\"glyph\":{\"id\":\"1043\"},\"group\":null,\"hover_glyph\":null,\"muted_glyph\":{\"id\":\"1045\"},\"nonselection_glyph\":{\"id\":\"1044\"},\"view\":{\"id\":\"1047\"}},\"id\":\"1046\",\"type\":\"GlyphRenderer\"},{\"attributes\":{},\"id\":\"1027\",\"type\":\"HelpTool\"},{\"attributes\":{},\"id\":\"1066\",\"type\":\"Selection\"},{\"attributes\":{\"coordinates\":null,\"group\":null,\"text\":\"Shots made in each match\"},\"id\":\"1004\",\"type\":\"Title\"},{\"attributes\":{},\"id\":\"1015\",\"type\":\"BasicTicker\"},{\"attributes\":{\"fill_alpha\":{\"value\":0.2},\"fill_color\":{\"value\":\"deeppink\"},\"hatch_alpha\":{\"value\":0.2},\"hatch_color\":{\"value\":\"deeppink\"},\"line_alpha\":{\"value\":0.2},\"line_color\":{\"value\":\"deeppink\"},\"marker\":{\"value\":\"square\"},\"size\":{\"value\":6},\"x\":{\"field\":\"x\"},\"y\":{\"field\":\"y\"}},\"id\":\"1073\",\"type\":\"Scatter\"},{\"attributes\":{},\"id\":\"1062\",\"type\":\"Selection\"},{\"attributes\":{},\"id\":\"1060\",\"type\":\"AllLabels\"},{\"attributes\":{\"data\":{\"x\":[1,2,3,4,5,6,7,8,9,10],\"y\":[0,5,1,5,5,4,5,0,5,4]},\"selected\":{\"id\":\"1090\"},\"selection_policy\":{\"id\":\"1089\"}},\"id\":\"1070\",\"type\":\"ColumnDataSource\"},{\"attributes\":{\"source\":{\"id\":\"1070\"}},\"id\":\"1075\",\"type\":\"CDSView\"},{\"attributes\":{\"line_alpha\":0.1,\"line_color\":\"saddlebrown\",\"line_width\":2,\"x\":{\"field\":\"x\"},\"y\":{\"field\":\"y\"}},\"id\":\"1044\",\"type\":\"Line\"},{\"attributes\":{\"data\":{\"x\":[1,2,3,4,5,6,7,8,9,10],\"y\":[9,17,0,17,12,4,7,13,16,19]},\"selected\":{\"id\":\"1064\"},\"selection_policy\":{\"id\":\"1063\"}},\"id\":\"1042\",\"type\":\"ColumnDataSource\"},{\"attributes\":{\"source\":{\"id\":\"1036\"}},\"id\":\"1041\",\"type\":\"CDSView\"},{\"attributes\":{\"fill_alpha\":{\"value\":0.75},\"fill_color\":{\"value\":\"saddlebrown\"},\"hatch_alpha\":{\"value\":0.75},\"hatch_color\":{\"value\":\"saddlebrown\"},\"line_alpha\":{\"value\":0.75},\"line_color\":{\"value\":\"saddlebrown\"},\"size\":{\"field\":\"size\"},\"x\":{\"field\":\"x\"},\"y\":{\"field\":\"y\"}},\"id\":\"1049\",\"type\":\"Circle\"},{\"attributes\":{\"coordinates\":null,\"data_source\":{\"id\":\"1036\"},\"glyph\":{\"id\":\"1037\"},\"group\":null,\"hover_glyph\":null,\"muted_glyph\":{\"id\":\"1039\"},\"nonselection_glyph\":{\"id\":\"1038\"},\"view\":{\"id\":\"1041\"}},\"id\":\"1040\",\"type\":\"GlyphRenderer\"},{\"attributes\":{\"tools\":[{\"id\":\"1022\"},{\"id\":\"1023\"},{\"id\":\"1024\"},{\"id\":\"1025\"},{\"id\":\"1026\"},{\"id\":\"1027\"}]},\"id\":\"1029\",\"type\":\"Toolbar\"},{\"attributes\":{\"global_alpha\":{\"value\":0.1},\"h\":{\"value\":16.666666666666668},\"url\":{\"field\":\"url\"},\"w\":{\"value\":6.5},\"x\":{\"value\":3.25},\"y\":{\"value\":10.0}},\"id\":\"1038\",\"type\":\"ImageURL\"},{\"attributes\":{\"global_alpha\":{\"value\":0.2},\"h\":{\"value\":16.666666666666668},\"url\":{\"field\":\"url\"},\"w\":{\"value\":6.5},\"x\":{\"value\":3.25},\"y\":{\"value\":10.0}},\"id\":\"1039\",\"type\":\"ImageURL\"},{\"attributes\":{},\"id\":\"1065\",\"type\":\"UnionRenderers\"},{\"attributes\":{\"bottom_units\":\"screen\",\"coordinates\":null,\"fill_alpha\":0.5,\"fill_color\":\"lightgrey\",\"group\":null,\"left_units\":\"screen\",\"level\":\"overlay\",\"line_alpha\":1.0,\"line_color\":\"black\",\"line_dash\":[4,4],\"line_width\":2,\"right_units\":\"screen\",\"syncable\":false,\"top_units\":\"screen\"},\"id\":\"1028\",\"type\":\"BoxAnnotation\"},{\"attributes\":{\"data\":{\"fill_color\":[\"green\",\"green\",\"red\",\"green\",\"green\",\"green\",\"green\",\"green\",\"green\",\"green\"],\"hatch_color\":[\"green\",\"green\",\"red\",\"green\",\"green\",\"green\",\"green\",\"green\",\"green\",\"green\"],\"line_color\":[\"green\",\"green\",\"red\",\"green\",\"green\",\"green\",\"green\",\"green\",\"green\",\"green\"],\"x\":[1,2,3,4,5,6,7,8,9,10]},\"selected\":{\"id\":\"1115\"},\"selection_policy\":{\"id\":\"1114\"}},\"id\":\"1093\",\"type\":\"ColumnDataSource\"},{\"attributes\":{},\"id\":\"1115\",\"type\":\"Selection\"}],\"root_ids\":[\"1003\"]},\"title\":\"Bokeh Application\",\"version\":\"2.4.3\"}};\n",
       "  const render_items = [{\"docid\":\"63f9755e-8f5c-4951-9ac0-5e3ee182877c\",\"root_ids\":[\"1003\"],\"roots\":{\"1003\":\"f37b28eb-698a-4ad4-a3fd-e30165f870ac\"}}];\n",
       "  root.Bokeh.embed.embed_items_notebook(docs_json, render_items);\n",
       "  }\n",
       "  if (root.Bokeh !== undefined) {\n",
       "    embed_document(root);\n",
       "  } else {\n",
       "    let attempts = 0;\n",
       "    const timer = setInterval(function(root) {\n",
       "      if (root.Bokeh !== undefined) {\n",
       "        clearInterval(timer);\n",
       "        embed_document(root);\n",
       "      } else {\n",
       "        attempts++;\n",
       "        if (attempts > 100) {\n",
       "          clearInterval(timer);\n",
       "          console.log(\"Bokeh: ERROR: Unable to run BokehJS code because BokehJS library is missing\");\n",
       "        }\n",
       "      }\n",
       "    }, 10, root)\n",
       "  }\n",
       "})(window);"
      ],
      "application/vnd.bokehjs_exec.v0+json": ""
     },
     "metadata": {
      "application/vnd.bokehjs_exec.v0+json": {
       "id": "1003"
      }
     },
     "output_type": "display_data"
    },
    {
     "name": "stdout",
     "output_type": "stream",
     "text": [
      "\n",
      "<h1>111</h1><br><strong>\n",
      "shots in regional: 114<br>\n",
      "max shots in single match: 19<br>\n",
      "regional shot percentage: 77.0%<br>\n",
      "average climb level: 3.4<br>\n",
      "taxi percentage: 90.0%\n",
      "</strong>\n"
     ]
    }
   ],
   "source": [
    "team_num = 111\n",
    "\n",
    "team = regional[team_num]\n",
    "shots_high = team.shots_high\n",
    "\n",
    "\n",
    "match_num = [i+1 for i in range(len(shots_high))] # -> [1,2,3,4...]\n",
    "\n",
    "\n",
    "fig = figure(title='Shots made in each match',\n",
    "             plot_height=300, plot_width=500,\n",
    "             x_range=(0, max(match_num)+3), y_range=(-2, max(shots_high)+1),\n",
    "             toolbar_location=\"right\")\n",
    "\n",
    "fig.image_url(url=['MM_logo.png'], x=(max(match_num)+3)/4, y=(max(shots_high)+1)/2, w=(max(match_num)+3)/2, h=(max(shots_high)+1)/1.2, alpha=.25)\n",
    "\n",
    "shot_percent = [made/total/2 if total else 0 for made, total in zip(team.shots_high, team.total_shots)]\n",
    "size = [sp*100/2 + 5 for sp in shot_percent]\n",
    "\n",
    "fig.line(x=match_num, y=shots_high, line_width=2, color='saddlebrown')\n",
    "fig.circle(x=match_num, y=shots_high, legend_label=\"shots\",\n",
    "           color='saddlebrown', size=size, alpha=0.75)\n",
    "\n",
    "\n",
    "fig.square(x=match_num,y=team.climbs, legend_label=\"climb\",\n",
    "          color= 'deeppink', size=6, alpha=0.75)\n",
    "\n",
    "\n",
    "\n",
    "\n",
    "taxi = ['green' if taxi else 'red' for taxi in team.taxis] \n",
    "fig.plus(x=match_num, y=-2, legend_label=\"taxi\",\n",
    "        color=taxi,  size=20, alpha=0.75)\n",
    "\n",
    "\n",
    "\n",
    "html = f'''\n",
    "<h1>{team_num}</h1><br><strong>\n",
    "shots in regional: {team.shots_in_regional}<br>\n",
    "max shots in single match: {max(shots_high)}<br>\n",
    "regional shot percentage: {team.shot_percentage*100}%<br>\n",
    "average climb level: {team.climb_average}<br>\n",
    "taxi percentage: {sum(team.taxis)/len(team.taxis)*100}%\n",
    "</strong>'''\n",
    "\n",
    "# Show plot|\n",
    "display(HTML(html))\n",
    "show(fig)\n",
    "print(html)\n"
   ]
  },
  {
   "cell_type": "code",
   "execution_count": 6,
   "id": "3ae43ea3",
   "metadata": {},
   "outputs": [
    {
     "name": "stdout",
     "output_type": "stream",
     "text": [
      "[9, 17, 0, 17, 12, 4, 7, 13, 16, 19, 6, 5, 3, 2, 2, 5, 4, 3, 0, 4, 3, 0, 2, 4, 3, 13, 3, 1, 4, 14, 1, 0, 0, 0, 0, 0, 1, 0, 0, 0, 0]\n"
     ]
    },
    {
     "name": "stderr",
     "output_type": "stream",
     "text": [
      "BokehUserWarning: ColumnDataSource's columns must be of the same length. Current lengths: ('x', 10), ('y', 11)\n"
     ]
    },
    {
     "data": {
      "text/html": [
       "\n",
       "  <div class=\"bk-root\" id=\"b2b18848-1b8b-4baa-a42a-1e1f2a13e09c\" data-root-id=\"1226\"></div>\n"
      ]
     },
     "metadata": {},
     "output_type": "display_data"
    },
    {
     "data": {
      "application/javascript": [
       "(function(root) {\n",
       "  function embed_document(root) {\n",
       "  const docs_json = {\"35f86c36-7e9e-4506-a96c-f315f3045f9e\":{\"defs\":[],\"roots\":{\"references\":[{\"attributes\":{\"below\":[{\"id\":\"1237\"}],\"center\":[{\"id\":\"1240\"},{\"id\":\"1244\"},{\"id\":\"1275\"}],\"height\":500,\"left\":[{\"id\":\"1241\"}],\"renderers\":[{\"id\":\"1263\"},{\"id\":\"1281\"},{\"id\":\"1300\"},{\"id\":\"1321\"}],\"title\":{\"id\":\"1227\"},\"toolbar\":{\"id\":\"1252\"},\"width\":800,\"x_range\":{\"id\":\"1229\"},\"x_scale\":{\"id\":\"1233\"},\"y_range\":{\"id\":\"1231\"},\"y_scale\":{\"id\":\"1235\"}},\"id\":\"1226\",\"subtype\":\"Figure\",\"type\":\"Plot\"},{\"attributes\":{\"coordinates\":null,\"data_source\":{\"id\":\"1259\"},\"glyph\":{\"id\":\"1260\"},\"group\":null,\"hover_glyph\":null,\"muted_glyph\":{\"id\":\"1262\"},\"nonselection_glyph\":{\"id\":\"1261\"},\"view\":{\"id\":\"1264\"}},\"id\":\"1263\",\"type\":\"GlyphRenderer\"},{\"attributes\":{\"data\":{\"x\":[1,2,3,4,5,6,7,8,9,10],\"y\":[0,0,0,0,0,1,0,0,0,0]},\"selected\":{\"id\":\"1337\"},\"selection_policy\":{\"id\":\"1336\"}},\"id\":\"1317\",\"type\":\"ColumnDataSource\"},{\"attributes\":{\"fill_alpha\":{\"value\":0.2},\"fill_color\":{\"value\":\"saddlebrown\"},\"hatch_alpha\":{\"value\":0.2},\"hatch_color\":{\"value\":\"saddlebrown\"},\"line_alpha\":{\"value\":0.2},\"line_color\":{\"value\":\"saddlebrown\"},\"size\":{\"value\":20},\"x\":{\"field\":\"x\"},\"y\":{\"field\":\"y\"}},\"id\":\"1320\",\"type\":\"Circle\"},{\"attributes\":{\"tools\":[{\"id\":\"1245\"},{\"id\":\"1246\"},{\"id\":\"1247\"},{\"id\":\"1248\"},{\"id\":\"1249\"},{\"id\":\"1250\"}]},\"id\":\"1252\",\"type\":\"Toolbar\"},{\"attributes\":{\"end\":13},\"id\":\"1229\",\"type\":\"Range1d\"},{\"attributes\":{\"fill_alpha\":{\"value\":0.75},\"fill_color\":{\"value\":\"saddlebrown\"},\"hatch_alpha\":{\"value\":0.75},\"hatch_color\":{\"value\":\"saddlebrown\"},\"line_alpha\":{\"value\":0.75},\"line_color\":{\"value\":\"saddlebrown\"},\"size\":{\"value\":20},\"x\":{\"field\":\"x\"},\"y\":{\"field\":\"y\"}},\"id\":\"1318\",\"type\":\"Circle\"},{\"attributes\":{\"coordinates\":null,\"group\":null,\"items\":[{\"id\":\"1276\"},{\"id\":\"1295\"},{\"id\":\"1316\"},{\"id\":\"1339\"}]},\"id\":\"1275\",\"type\":\"Legend\"},{\"attributes\":{},\"id\":\"1235\",\"type\":\"LinearScale\"},{\"attributes\":{\"coordinates\":null,\"formatter\":{\"id\":\"1270\"},\"group\":null,\"major_label_policy\":{\"id\":\"1271\"},\"ticker\":{\"id\":\"1238\"}},\"id\":\"1237\",\"type\":\"LinearAxis\"},{\"attributes\":{},\"id\":\"1268\",\"type\":\"AllLabels\"},{\"attributes\":{\"axis\":{\"id\":\"1237\"},\"coordinates\":null,\"group\":null,\"ticker\":null},\"id\":\"1240\",\"type\":\"Grid\"},{\"attributes\":{\"bottom_units\":\"screen\",\"coordinates\":null,\"fill_alpha\":0.5,\"fill_color\":\"lightgrey\",\"group\":null,\"left_units\":\"screen\",\"level\":\"overlay\",\"line_alpha\":1.0,\"line_color\":\"black\",\"line_dash\":[4,4],\"line_width\":2,\"right_units\":\"screen\",\"syncable\":false,\"top_units\":\"screen\"},\"id\":\"1251\",\"type\":\"BoxAnnotation\"},{\"attributes\":{\"axis\":{\"id\":\"1241\"},\"coordinates\":null,\"dimension\":1,\"group\":null,\"ticker\":null},\"id\":\"1244\",\"type\":\"Grid\"},{\"attributes\":{},\"id\":\"1242\",\"type\":\"BasicTicker\"},{\"attributes\":{},\"id\":\"1313\",\"type\":\"UnionRenderers\"},{\"attributes\":{},\"id\":\"1238\",\"type\":\"BasicTicker\"},{\"attributes\":{\"coordinates\":null,\"data_source\":{\"id\":\"1317\"},\"glyph\":{\"id\":\"1318\"},\"group\":null,\"hover_glyph\":null,\"muted_glyph\":{\"id\":\"1320\"},\"nonselection_glyph\":{\"id\":\"1319\"},\"view\":{\"id\":\"1322\"}},\"id\":\"1321\",\"type\":\"GlyphRenderer\"},{\"attributes\":{\"coordinates\":null,\"data_source\":{\"id\":\"1277\"},\"glyph\":{\"id\":\"1278\"},\"group\":null,\"hover_glyph\":null,\"muted_glyph\":{\"id\":\"1280\"},\"nonselection_glyph\":{\"id\":\"1279\"},\"view\":{\"id\":\"1282\"}},\"id\":\"1281\",\"type\":\"GlyphRenderer\"},{\"attributes\":{\"source\":{\"id\":\"1296\"}},\"id\":\"1301\",\"type\":\"CDSView\"},{\"attributes\":{},\"id\":\"1249\",\"type\":\"ResetTool\"},{\"attributes\":{\"fill_alpha\":{\"value\":0.2},\"fill_color\":{\"value\":\"deeppink\"},\"hatch_alpha\":{\"value\":0.2},\"hatch_color\":{\"value\":\"deeppink\"},\"line_alpha\":{\"value\":0.2},\"line_color\":{\"value\":\"deeppink\"},\"size\":{\"value\":20},\"x\":{\"field\":\"x\"},\"y\":{\"field\":\"y\"}},\"id\":\"1280\",\"type\":\"Circle\"},{\"attributes\":{\"coordinates\":null,\"data_source\":{\"id\":\"1296\"},\"glyph\":{\"id\":\"1297\"},\"group\":null,\"hover_glyph\":null,\"muted_glyph\":{\"id\":\"1299\"},\"nonselection_glyph\":{\"id\":\"1298\"},\"view\":{\"id\":\"1301\"}},\"id\":\"1300\",\"type\":\"GlyphRenderer\"},{\"attributes\":{\"data\":{\"x\":[1,2,3,4,5,6,7,8,9,10],\"y\":[6,5,3,2,2,5,4,3,0,4]},\"selected\":{\"id\":\"1293\"},\"selection_policy\":{\"id\":\"1292\"}},\"id\":\"1277\",\"type\":\"ColumnDataSource\"},{\"attributes\":{\"fill_alpha\":{\"value\":0.1},\"fill_color\":{\"value\":\"deepskyblue\"},\"hatch_alpha\":{\"value\":0.1},\"hatch_color\":{\"value\":\"deepskyblue\"},\"line_alpha\":{\"value\":0.1},\"line_color\":{\"value\":\"deepskyblue\"},\"size\":{\"value\":20},\"x\":{\"field\":\"x\"},\"y\":{\"field\":\"y\"}},\"id\":\"1298\",\"type\":\"Circle\"},{\"attributes\":{},\"id\":\"1245\",\"type\":\"PanTool\"},{\"attributes\":{\"overlay\":{\"id\":\"1251\"}},\"id\":\"1247\",\"type\":\"BoxZoomTool\"},{\"attributes\":{},\"id\":\"1270\",\"type\":\"BasicTickFormatter\"},{\"attributes\":{\"label\":{\"value\":\"111\"},\"renderers\":[{\"id\":\"1263\"}]},\"id\":\"1276\",\"type\":\"LegendItem\"},{\"attributes\":{\"label\":{\"value\":\"4096\"},\"renderers\":[{\"id\":\"1300\"}]},\"id\":\"1316\",\"type\":\"LegendItem\"},{\"attributes\":{\"coordinates\":null,\"group\":null,\"text\":\"Shots made in each match\"},\"id\":\"1227\",\"type\":\"Title\"},{\"attributes\":{\"label\":{\"value\":\"8122\"},\"renderers\":[{\"id\":\"1281\"}]},\"id\":\"1295\",\"type\":\"LegendItem\"},{\"attributes\":{\"fill_alpha\":{\"value\":0.1},\"fill_color\":{\"value\":\"deeppink\"},\"hatch_alpha\":{\"value\":0.1},\"hatch_color\":{\"value\":\"deeppink\"},\"line_alpha\":{\"value\":0.1},\"line_color\":{\"value\":\"deeppink\"},\"size\":{\"value\":20},\"x\":{\"field\":\"x\"},\"y\":{\"field\":\"y\"}},\"id\":\"1279\",\"type\":\"Circle\"},{\"attributes\":{\"data\":{\"x\":[1,2,3,4,5,6,7,8,9,10],\"y\":[3,0,2,4,3,13,3,1,4,14,1]},\"selected\":{\"id\":\"1314\"},\"selection_policy\":{\"id\":\"1313\"}},\"id\":\"1296\",\"type\":\"ColumnDataSource\"},{\"attributes\":{},\"id\":\"1271\",\"type\":\"AllLabels\"},{\"attributes\":{},\"id\":\"1233\",\"type\":\"LinearScale\"},{\"attributes\":{\"fill_alpha\":{\"value\":0.1},\"fill_color\":{\"value\":\"gold\"},\"hatch_alpha\":{\"value\":0.1},\"hatch_color\":{\"value\":\"gold\"},\"line_alpha\":{\"value\":0.1},\"line_color\":{\"value\":\"gold\"},\"size\":{\"value\":20},\"x\":{\"field\":\"x\"},\"y\":{\"field\":\"y\"}},\"id\":\"1261\",\"type\":\"Circle\"},{\"attributes\":{\"source\":{\"id\":\"1277\"}},\"id\":\"1282\",\"type\":\"CDSView\"},{\"attributes\":{\"end\":20,\"start\":-2},\"id\":\"1231\",\"type\":\"Range1d\"},{\"attributes\":{\"fill_alpha\":{\"value\":0.2},\"fill_color\":{\"value\":\"deepskyblue\"},\"hatch_alpha\":{\"value\":0.2},\"hatch_color\":{\"value\":\"deepskyblue\"},\"line_alpha\":{\"value\":0.2},\"line_color\":{\"value\":\"deepskyblue\"},\"size\":{\"value\":20},\"x\":{\"field\":\"x\"},\"y\":{\"field\":\"y\"}},\"id\":\"1299\",\"type\":\"Circle\"},{\"attributes\":{\"fill_alpha\":{\"value\":0.75},\"fill_color\":{\"value\":\"deeppink\"},\"hatch_alpha\":{\"value\":0.75},\"hatch_color\":{\"value\":\"deeppink\"},\"line_alpha\":{\"value\":0.75},\"line_color\":{\"value\":\"deeppink\"},\"size\":{\"value\":20},\"x\":{\"field\":\"x\"},\"y\":{\"field\":\"y\"}},\"id\":\"1278\",\"type\":\"Circle\"},{\"attributes\":{\"fill_alpha\":{\"value\":0.75},\"fill_color\":{\"value\":\"deepskyblue\"},\"hatch_alpha\":{\"value\":0.75},\"hatch_color\":{\"value\":\"deepskyblue\"},\"line_alpha\":{\"value\":0.75},\"line_color\":{\"value\":\"deepskyblue\"},\"size\":{\"value\":20},\"x\":{\"field\":\"x\"},\"y\":{\"field\":\"y\"}},\"id\":\"1297\",\"type\":\"Circle\"},{\"attributes\":{},\"id\":\"1293\",\"type\":\"Selection\"},{\"attributes\":{\"fill_alpha\":{\"value\":0.2},\"fill_color\":{\"value\":\"gold\"},\"hatch_alpha\":{\"value\":0.2},\"hatch_color\":{\"value\":\"gold\"},\"line_alpha\":{\"value\":0.2},\"line_color\":{\"value\":\"gold\"},\"size\":{\"value\":20},\"x\":{\"field\":\"x\"},\"y\":{\"field\":\"y\"}},\"id\":\"1262\",\"type\":\"Circle\"},{\"attributes\":{},\"id\":\"1273\",\"type\":\"Selection\"},{\"attributes\":{\"data\":{\"x\":[1,2,3,4,5,6,7,8,9,10],\"y\":[9,17,0,17,12,4,7,13,16,19]},\"selected\":{\"id\":\"1273\"},\"selection_policy\":{\"id\":\"1272\"}},\"id\":\"1259\",\"type\":\"ColumnDataSource\"},{\"attributes\":{\"fill_alpha\":{\"value\":0.75},\"fill_color\":{\"value\":\"gold\"},\"hatch_alpha\":{\"value\":0.75},\"hatch_color\":{\"value\":\"gold\"},\"line_alpha\":{\"value\":0.75},\"line_color\":{\"value\":\"gold\"},\"size\":{\"value\":20},\"x\":{\"field\":\"x\"},\"y\":{\"field\":\"y\"}},\"id\":\"1260\",\"type\":\"Circle\"},{\"attributes\":{},\"id\":\"1314\",\"type\":\"Selection\"},{\"attributes\":{},\"id\":\"1337\",\"type\":\"Selection\"},{\"attributes\":{},\"id\":\"1272\",\"type\":\"UnionRenderers\"},{\"attributes\":{},\"id\":\"1336\",\"type\":\"UnionRenderers\"},{\"attributes\":{},\"id\":\"1250\",\"type\":\"HelpTool\"},{\"attributes\":{\"coordinates\":null,\"formatter\":{\"id\":\"1267\"},\"group\":null,\"major_label_policy\":{\"id\":\"1268\"},\"ticker\":{\"id\":\"1242\"}},\"id\":\"1241\",\"type\":\"LinearAxis\"},{\"attributes\":{},\"id\":\"1267\",\"type\":\"BasicTickFormatter\"},{\"attributes\":{},\"id\":\"1246\",\"type\":\"WheelZoomTool\"},{\"attributes\":{},\"id\":\"1292\",\"type\":\"UnionRenderers\"},{\"attributes\":{\"source\":{\"id\":\"1259\"}},\"id\":\"1264\",\"type\":\"CDSView\"},{\"attributes\":{\"source\":{\"id\":\"1317\"}},\"id\":\"1322\",\"type\":\"CDSView\"},{\"attributes\":{},\"id\":\"1248\",\"type\":\"SaveTool\"},{\"attributes\":{\"fill_alpha\":{\"value\":0.1},\"fill_color\":{\"value\":\"saddlebrown\"},\"hatch_alpha\":{\"value\":0.1},\"hatch_color\":{\"value\":\"saddlebrown\"},\"line_alpha\":{\"value\":0.1},\"line_color\":{\"value\":\"saddlebrown\"},\"size\":{\"value\":20},\"x\":{\"field\":\"x\"},\"y\":{\"field\":\"y\"}},\"id\":\"1319\",\"type\":\"Circle\"},{\"attributes\":{\"label\":{\"value\":\"lame tech\"},\"renderers\":[{\"id\":\"1321\"}]},\"id\":\"1339\",\"type\":\"LegendItem\"}],\"root_ids\":[\"1226\"]},\"title\":\"Bokeh Application\",\"version\":\"2.4.3\"}};\n",
       "  const render_items = [{\"docid\":\"35f86c36-7e9e-4506-a96c-f315f3045f9e\",\"root_ids\":[\"1226\"],\"roots\":{\"1226\":\"b2b18848-1b8b-4baa-a42a-1e1f2a13e09c\"}}];\n",
       "  root.Bokeh.embed.embed_items_notebook(docs_json, render_items);\n",
       "  }\n",
       "  if (root.Bokeh !== undefined) {\n",
       "    embed_document(root);\n",
       "  } else {\n",
       "    let attempts = 0;\n",
       "    const timer = setInterval(function(root) {\n",
       "      if (root.Bokeh !== undefined) {\n",
       "        clearInterval(timer);\n",
       "        embed_document(root);\n",
       "      } else {\n",
       "        attempts++;\n",
       "        if (attempts > 100) {\n",
       "          clearInterval(timer);\n",
       "          console.log(\"Bokeh: ERROR: Unable to run BokehJS code because BokehJS library is missing\");\n",
       "        }\n",
       "      }\n",
       "    }, 10, root)\n",
       "  }\n",
       "})(window);"
      ],
      "application/vnd.bokehjs_exec.v0+json": ""
     },
     "metadata": {
      "application/vnd.bokehjs_exec.v0+json": {
       "id": "1226"
      }
     },
     "output_type": "display_data"
    }
   ],
   "source": [
    "team_nums = [111, 8122, 4096, 4645]\n",
    "\n",
    "teams = [regional[team_num] for team_num in team_nums]\n",
    "\n",
    "match_num = [i+1 for i in range(len(teams[0].shots_high))] # -> [1,2,3,4...]\n",
    "\n",
    "y_range = []\n",
    "for team in teams:\n",
    "    y_range.extend(team.shots_high)\n",
    "\n",
    "print(y_range)\n",
    "fig = figure(title='Shots made in each match',\n",
    "             plot_height=500, plot_width=800,\n",
    "             x_range=(0, max(match_num)+3), y_range=(-2, max(y_range)+1),\n",
    "             toolbar_location=\"right\")\n",
    "\n",
    "for num, team in zip(team_nums, teams):  \n",
    "    fig.circle(x=match_num, y=team.shots_high, legend_label = 'lame tech' if num == 4645 else str(num),\n",
    "               color=get_color(num), size=20, alpha=0.75)\n",
    "\n",
    "\n",
    "show(fig)"
   ]
  },
  {
   "cell_type": "code",
   "execution_count": 7,
   "id": "98de6ffd",
   "metadata": {
    "scrolled": true
   },
   "outputs": [
    {
     "name": "stdout",
     "output_type": "stream",
     "text": [
      "[[48, 0.86],\n",
      " [2338, 0.84],\n",
      " [1732, 0.84],\n",
      " [3488, 0.81],\n",
      " [111, 0.77],\n",
      " [2451, 0.76],\n",
      " [112, 0.76],\n",
      " [3061, 0.71],\n",
      " [1781, 0.7],\n",
      " [2220, 0.69]]\n"
     ]
    }
   ],
   "source": [
    "tp = [[team, regional[team].shot_percentage] for team in regional]\n",
    "tp.sort(reverse=True, key=lambda sort:sort[1])\n",
    "pprint(tp[:10])"
   ]
  },
  {
   "cell_type": "code",
   "execution_count": 8,
   "id": "7ff69a6f",
   "metadata": {
    "scrolled": false
   },
   "outputs": [
    {
     "name": "stdout",
     "output_type": "stream",
     "text": [
      "dict_items([(4096, <main.Team object at 0x00000173A7CBA4A0>), (5125, <main.Team object at 0x00000173A7CBA4D0>), (7560, <main.Team object at 0x00000173B7ABB910>), (2830, <main.Team object at 0x00000173B7ABA350>), (2062, <main.Team object at 0x00000173B7ABB820>), (4241, <main.Team object at 0x00000173B7ABA290>), (2451, <main.Team object at 0x00000173B7ABA200>), (3734, <main.Team object at 0x00000173B7ABB970>), (3352, <main.Team object at 0x00000173B7ABB9D0>), (8096, <main.Team object at 0x00000173B7ABBAC0>), (3488, <main.Team object at 0x00000173B7ABBB20>), (2338, <main.Team object at 0x00000173B7ABBB80>), (7460, <main.Team object at 0x00000173B7ABBBE0>), (4645, <main.Team object at 0x00000173B7ABBCA0>), (677, <main.Team object at 0x00000173B7ABBD00>), (3110, <main.Team object at 0x00000173B7ABBFD0>), (8868, <main.Team object at 0x00000173B7ABB2B0>), (2220, <main.Team object at 0x00000173B7ABB700>), (5934, <main.Team object at 0x00000173B7ABB6A0>), (8880, <main.Team object at 0x00000173B7ABB640>), (5553, <main.Team object at 0x00000173B7ABB5E0>), (4145, <main.Team object at 0x00000173B7ABB580>), (4787, <main.Team object at 0x00000173B7ABB520>), (48, <main.Team object at 0x00000173B7ABB4C0>), (2358, <main.Team object at 0x00000173B7ABB460>), (8122, <main.Team object at 0x00000173B7ABB400>), (5822, <main.Team object at 0x00000173B7ABB3A0>), (4292, <main.Team object at 0x00000173B7ABB340>), (7237, <main.Team object at 0x00000173B7ABA140>), (1732, <main.Team object at 0x00000173B7ABA0E0>), (3067, <main.Team object at 0x00000173B7ABA080>), (1739, <main.Team object at 0x00000173B7ABA020>), (5847, <main.Team object at 0x00000173B7AB9FC0>), (1625, <main.Team object at 0x00000173B7AB9F60>), (8029, <main.Team object at 0x00000173B7AB9F00>), (4702, <main.Team object at 0x00000173B7AB9EA0>), (8802, <main.Team object at 0x00000173B7AB9E40>), (101, <main.Team object at 0x00000173B7AB9DE0>), (2022, <main.Team object at 0x00000173B7AB9D80>), (2151, <main.Team object at 0x00000173B7AB9D20>), (6381, <main.Team object at 0x00000173B7AB9CC0>), (111, <main.Team object at 0x00000173B7AB9C60>), (3695, <main.Team object at 0x00000173B7AB9C00>), (112, <main.Team object at 0x00000173B7AB9BA0>), (1781, <main.Team object at 0x00000173B7AB9B40>), (3061, <main.Team object at 0x00000173B7AB9AE0>), (6651, <main.Team object at 0x00000173B7AB9A80>)])\n"
     ]
    }
   ],
   "source": [
    "pprint(regional.items())"
   ]
  },
  {
   "cell_type": "code",
   "execution_count": 9,
   "id": "b105d144",
   "metadata": {},
   "outputs": [
    {
     "data": {
      "text/plain": [
       "[9, 17, 0, 17, 12, 4, 7, 13, 16, 19]"
      ]
     },
     "execution_count": 9,
     "metadata": {},
     "output_type": "execute_result"
    }
   ],
   "source": [
    "regional[111].shots_high"
   ]
  },
  {
   "cell_type": "code",
   "execution_count": null,
   "id": "336c722e",
   "metadata": {},
   "outputs": [],
   "source": []
  }
 ],
 "metadata": {
  "kernelspec": {
   "display_name": "Python 3 (ipykernel)",
   "language": "python",
   "name": "python3"
  },
  "language_info": {
   "codemirror_mode": {
    "name": "ipython",
    "version": 3
   },
   "file_extension": ".py",
   "mimetype": "text/x-python",
   "name": "python",
   "nbconvert_exporter": "python",
   "pygments_lexer": "ipython3",
   "version": "3.10.5"
  }
 },
 "nbformat": 4,
 "nbformat_minor": 5
}
